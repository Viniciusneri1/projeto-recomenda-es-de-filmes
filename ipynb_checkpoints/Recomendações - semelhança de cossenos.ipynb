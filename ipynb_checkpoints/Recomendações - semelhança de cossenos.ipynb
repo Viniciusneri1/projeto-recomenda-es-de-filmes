{
 "cells": [
  {
   "cell_type": "code",
   "execution_count": 1,
   "metadata": {
    "ExecuteTime": {
     "end_time": "2021-03-10T19:36:35.727458Z",
     "start_time": "2021-03-10T19:36:22.233791Z"
    }
   },
   "outputs": [],
   "source": [
    "import pandas as pd\n",
    "import numpy as np\n",
    "from sklearn.metrics.pairwise import cosine_similarity\n",
    "from sklearn.feature_extraction.text import CountVectorizer"
   ]
  },
  {
   "cell_type": "code",
   "execution_count": 3,
   "metadata": {
    "ExecuteTime": {
     "end_time": "2021-03-10T19:37:11.899493Z",
     "start_time": "2021-03-10T19:37:11.433677Z"
    }
   },
   "outputs": [],
   "source": [
    "data = pd.read_csv('/Users/vanessa/Desktop/Projeto_rec/data3.csv')"
   ]
  },
  {
   "cell_type": "code",
   "execution_count": 5,
   "metadata": {
    "ExecuteTime": {
     "end_time": "2021-03-10T19:37:19.655590Z",
     "start_time": "2021-03-10T19:37:19.556714Z"
    }
   },
   "outputs": [
    {
     "data": {
      "text/html": [
       "<div>\n",
       "<style scoped>\n",
       "    .dataframe tbody tr th:only-of-type {\n",
       "        vertical-align: middle;\n",
       "    }\n",
       "\n",
       "    .dataframe tbody tr th {\n",
       "        vertical-align: top;\n",
       "    }\n",
       "\n",
       "    .dataframe thead th {\n",
       "        text-align: right;\n",
       "    }\n",
       "</style>\n",
       "<table border=\"1\" class=\"dataframe\">\n",
       "  <thead>\n",
       "    <tr style=\"text-align: right;\">\n",
       "      <th></th>\n",
       "      <th>Unnamed: 0</th>\n",
       "      <th>Director</th>\n",
       "      <th>Actor_1</th>\n",
       "      <th>Actor_2</th>\n",
       "      <th>Actor_3</th>\n",
       "      <th>Genres</th>\n",
       "      <th>Title</th>\n",
       "      <th>Features</th>\n",
       "    </tr>\n",
       "  </thead>\n",
       "  <tbody>\n",
       "    <tr>\n",
       "      <th>0</th>\n",
       "      <td>0</td>\n",
       "      <td>James Cameron</td>\n",
       "      <td>CCH Pounder</td>\n",
       "      <td>Joel David Moore</td>\n",
       "      <td>Wes Studi</td>\n",
       "      <td>Action Adventure Fantasy Sci-Fi</td>\n",
       "      <td>avatar</td>\n",
       "      <td>CCH Pounder Joel David Moore Wes Studi James C...</td>\n",
       "    </tr>\n",
       "    <tr>\n",
       "      <th>1</th>\n",
       "      <td>1</td>\n",
       "      <td>Gore Verbinski</td>\n",
       "      <td>Johnny Depp</td>\n",
       "      <td>Orlando Bloom</td>\n",
       "      <td>Jack Davenport</td>\n",
       "      <td>Action Adventure Fantasy</td>\n",
       "      <td>pirates of the caribbean: at world's end</td>\n",
       "      <td>Johnny Depp Orlando Bloom Jack Davenport Gore ...</td>\n",
       "    </tr>\n",
       "    <tr>\n",
       "      <th>2</th>\n",
       "      <td>2</td>\n",
       "      <td>Sam Mendes</td>\n",
       "      <td>Christoph Waltz</td>\n",
       "      <td>Rory Kinnear</td>\n",
       "      <td>Stephanie Sigman</td>\n",
       "      <td>Action Adventure Thriller</td>\n",
       "      <td>spectre</td>\n",
       "      <td>Christoph Waltz Rory Kinnear Stephanie Sigman ...</td>\n",
       "    </tr>\n",
       "    <tr>\n",
       "      <th>3</th>\n",
       "      <td>3</td>\n",
       "      <td>Christopher Nolan</td>\n",
       "      <td>Tom Hardy</td>\n",
       "      <td>Christian Bale</td>\n",
       "      <td>Joseph Gordon-Levitt</td>\n",
       "      <td>Action Thriller</td>\n",
       "      <td>the dark knight rises</td>\n",
       "      <td>Tom Hardy Christian Bale Joseph Gordon-Levitt ...</td>\n",
       "    </tr>\n",
       "    <tr>\n",
       "      <th>4</th>\n",
       "      <td>4</td>\n",
       "      <td>Doug Walker</td>\n",
       "      <td>Doug Walker</td>\n",
       "      <td>Rob Walker</td>\n",
       "      <td>unknown</td>\n",
       "      <td>Documentary</td>\n",
       "      <td>star wars: episode vii - the force awakens    ...</td>\n",
       "      <td>Doug Walker Rob Walker unknown Doug Walker Doc...</td>\n",
       "    </tr>\n",
       "    <tr>\n",
       "      <th>...</th>\n",
       "      <td>...</td>\n",
       "      <td>...</td>\n",
       "      <td>...</td>\n",
       "      <td>...</td>\n",
       "      <td>...</td>\n",
       "      <td>...</td>\n",
       "      <td>...</td>\n",
       "      <td>...</td>\n",
       "    </tr>\n",
       "    <tr>\n",
       "      <th>5864</th>\n",
       "      <td>5864</td>\n",
       "      <td>Greta Gerwig</td>\n",
       "      <td>Saoirse Ronan</td>\n",
       "      <td>Emma Watson</td>\n",
       "      <td>Florence Pugh</td>\n",
       "      <td>Drama Romance</td>\n",
       "      <td>little women</td>\n",
       "      <td>Saoirse Ronan Emma Watson Florence Pugh Greta ...</td>\n",
       "    </tr>\n",
       "    <tr>\n",
       "      <th>5865</th>\n",
       "      <td>5865</td>\n",
       "      <td>Sam Mendes</td>\n",
       "      <td>George MacKay</td>\n",
       "      <td>Dean-Charles Chapman</td>\n",
       "      <td>Mark Strong</td>\n",
       "      <td>War Drama Action History</td>\n",
       "      <td>1917</td>\n",
       "      <td>George MacKay Dean-Charles Chapman Mark Strong...</td>\n",
       "    </tr>\n",
       "    <tr>\n",
       "      <th>5866</th>\n",
       "      <td>5866</td>\n",
       "      <td>Destin Daniel Cretton</td>\n",
       "      <td>Michael B. Jordan</td>\n",
       "      <td>Jamie Foxx</td>\n",
       "      <td>Brie Larson</td>\n",
       "      <td>Drama Crime</td>\n",
       "      <td>just mercy</td>\n",
       "      <td>Michael B. Jordan Jamie Foxx Brie Larson Desti...</td>\n",
       "    </tr>\n",
       "    <tr>\n",
       "      <th>5867</th>\n",
       "      <td>5867</td>\n",
       "      <td>Chinonye Chukwu</td>\n",
       "      <td>Alfre Woodard</td>\n",
       "      <td>Wendell Pierce</td>\n",
       "      <td>Aldis Hodge</td>\n",
       "      <td>Drama</td>\n",
       "      <td>clemency</td>\n",
       "      <td>Alfre Woodard Wendell Pierce Aldis Hodge Chino...</td>\n",
       "    </tr>\n",
       "    <tr>\n",
       "      <th>5868</th>\n",
       "      <td>5868</td>\n",
       "      <td>Waymon Boone</td>\n",
       "      <td>Mena Suvari</td>\n",
       "      <td>Kevin Pollak</td>\n",
       "      <td>unknown</td>\n",
       "      <td>Horror Thriller</td>\n",
       "      <td>apparition</td>\n",
       "      <td>Mena Suvari Kevin Pollak unknown Waymon Boone ...</td>\n",
       "    </tr>\n",
       "  </tbody>\n",
       "</table>\n",
       "<p>5869 rows × 8 columns</p>\n",
       "</div>"
      ],
      "text/plain": [
       "      Unnamed: 0               Director            Actor_1  \\\n",
       "0              0          James Cameron        CCH Pounder   \n",
       "1              1         Gore Verbinski        Johnny Depp   \n",
       "2              2             Sam Mendes    Christoph Waltz   \n",
       "3              3      Christopher Nolan          Tom Hardy   \n",
       "4              4            Doug Walker        Doug Walker   \n",
       "...          ...                    ...                ...   \n",
       "5864        5864           Greta Gerwig      Saoirse Ronan   \n",
       "5865        5865             Sam Mendes      George MacKay   \n",
       "5866        5866  Destin Daniel Cretton  Michael B. Jordan   \n",
       "5867        5867        Chinonye Chukwu      Alfre Woodard   \n",
       "5868        5868           Waymon Boone        Mena Suvari   \n",
       "\n",
       "                   Actor_2               Actor_3  \\\n",
       "0         Joel David Moore             Wes Studi   \n",
       "1            Orlando Bloom        Jack Davenport   \n",
       "2             Rory Kinnear      Stephanie Sigman   \n",
       "3           Christian Bale  Joseph Gordon-Levitt   \n",
       "4               Rob Walker               unknown   \n",
       "...                    ...                   ...   \n",
       "5864           Emma Watson         Florence Pugh   \n",
       "5865  Dean-Charles Chapman           Mark Strong   \n",
       "5866            Jamie Foxx           Brie Larson   \n",
       "5867        Wendell Pierce           Aldis Hodge   \n",
       "5868          Kevin Pollak               unknown   \n",
       "\n",
       "                               Genres  \\\n",
       "0     Action Adventure Fantasy Sci-Fi   \n",
       "1            Action Adventure Fantasy   \n",
       "2           Action Adventure Thriller   \n",
       "3                     Action Thriller   \n",
       "4                         Documentary   \n",
       "...                               ...   \n",
       "5864                    Drama Romance   \n",
       "5865         War Drama Action History   \n",
       "5866                      Drama Crime   \n",
       "5867                            Drama   \n",
       "5868                  Horror Thriller   \n",
       "\n",
       "                                                  Title  \\\n",
       "0                                                avatar   \n",
       "1              pirates of the caribbean: at world's end   \n",
       "2                                               spectre   \n",
       "3                                 the dark knight rises   \n",
       "4     star wars: episode vii - the force awakens    ...   \n",
       "...                                                 ...   \n",
       "5864                                       little women   \n",
       "5865                                               1917   \n",
       "5866                                         just mercy   \n",
       "5867                                           clemency   \n",
       "5868                                         apparition   \n",
       "\n",
       "                                               Features  \n",
       "0     CCH Pounder Joel David Moore Wes Studi James C...  \n",
       "1     Johnny Depp Orlando Bloom Jack Davenport Gore ...  \n",
       "2     Christoph Waltz Rory Kinnear Stephanie Sigman ...  \n",
       "3     Tom Hardy Christian Bale Joseph Gordon-Levitt ...  \n",
       "4     Doug Walker Rob Walker unknown Doug Walker Doc...  \n",
       "...                                                 ...  \n",
       "5864  Saoirse Ronan Emma Watson Florence Pugh Greta ...  \n",
       "5865  George MacKay Dean-Charles Chapman Mark Strong...  \n",
       "5866  Michael B. Jordan Jamie Foxx Brie Larson Desti...  \n",
       "5867  Alfre Woodard Wendell Pierce Aldis Hodge Chino...  \n",
       "5868  Mena Suvari Kevin Pollak unknown Waymon Boone ...  \n",
       "\n",
       "[5869 rows x 8 columns]"
      ]
     },
     "execution_count": 5,
     "metadata": {},
     "output_type": "execute_result"
    }
   ],
   "source": [
    "data"
   ]
  },
  {
   "cell_type": "code",
   "execution_count": 6,
   "metadata": {
    "ExecuteTime": {
     "end_time": "2021-03-10T19:37:20.910414Z",
     "start_time": "2021-03-10T19:37:20.833485Z"
    }
   },
   "outputs": [],
   "source": [
    "data = data.rename(columns={'Unnamed: 0':'Movie_id'})"
   ]
  },
  {
   "cell_type": "code",
   "execution_count": 7,
   "metadata": {
    "ExecuteTime": {
     "end_time": "2021-03-10T19:37:21.661274Z",
     "start_time": "2021-03-10T19:37:21.614266Z"
    }
   },
   "outputs": [
    {
     "data": {
      "text/html": [
       "<div>\n",
       "<style scoped>\n",
       "    .dataframe tbody tr th:only-of-type {\n",
       "        vertical-align: middle;\n",
       "    }\n",
       "\n",
       "    .dataframe tbody tr th {\n",
       "        vertical-align: top;\n",
       "    }\n",
       "\n",
       "    .dataframe thead th {\n",
       "        text-align: right;\n",
       "    }\n",
       "</style>\n",
       "<table border=\"1\" class=\"dataframe\">\n",
       "  <thead>\n",
       "    <tr style=\"text-align: right;\">\n",
       "      <th></th>\n",
       "      <th>Movie_id</th>\n",
       "      <th>Director</th>\n",
       "      <th>Actor_1</th>\n",
       "      <th>Actor_2</th>\n",
       "      <th>Actor_3</th>\n",
       "      <th>Genres</th>\n",
       "      <th>Title</th>\n",
       "      <th>Features</th>\n",
       "    </tr>\n",
       "  </thead>\n",
       "  <tbody>\n",
       "    <tr>\n",
       "      <th>0</th>\n",
       "      <td>0</td>\n",
       "      <td>James Cameron</td>\n",
       "      <td>CCH Pounder</td>\n",
       "      <td>Joel David Moore</td>\n",
       "      <td>Wes Studi</td>\n",
       "      <td>Action Adventure Fantasy Sci-Fi</td>\n",
       "      <td>avatar</td>\n",
       "      <td>CCH Pounder Joel David Moore Wes Studi James C...</td>\n",
       "    </tr>\n",
       "    <tr>\n",
       "      <th>1</th>\n",
       "      <td>1</td>\n",
       "      <td>Gore Verbinski</td>\n",
       "      <td>Johnny Depp</td>\n",
       "      <td>Orlando Bloom</td>\n",
       "      <td>Jack Davenport</td>\n",
       "      <td>Action Adventure Fantasy</td>\n",
       "      <td>pirates of the caribbean: at world's end</td>\n",
       "      <td>Johnny Depp Orlando Bloom Jack Davenport Gore ...</td>\n",
       "    </tr>\n",
       "    <tr>\n",
       "      <th>2</th>\n",
       "      <td>2</td>\n",
       "      <td>Sam Mendes</td>\n",
       "      <td>Christoph Waltz</td>\n",
       "      <td>Rory Kinnear</td>\n",
       "      <td>Stephanie Sigman</td>\n",
       "      <td>Action Adventure Thriller</td>\n",
       "      <td>spectre</td>\n",
       "      <td>Christoph Waltz Rory Kinnear Stephanie Sigman ...</td>\n",
       "    </tr>\n",
       "    <tr>\n",
       "      <th>3</th>\n",
       "      <td>3</td>\n",
       "      <td>Christopher Nolan</td>\n",
       "      <td>Tom Hardy</td>\n",
       "      <td>Christian Bale</td>\n",
       "      <td>Joseph Gordon-Levitt</td>\n",
       "      <td>Action Thriller</td>\n",
       "      <td>the dark knight rises</td>\n",
       "      <td>Tom Hardy Christian Bale Joseph Gordon-Levitt ...</td>\n",
       "    </tr>\n",
       "    <tr>\n",
       "      <th>4</th>\n",
       "      <td>4</td>\n",
       "      <td>Doug Walker</td>\n",
       "      <td>Doug Walker</td>\n",
       "      <td>Rob Walker</td>\n",
       "      <td>unknown</td>\n",
       "      <td>Documentary</td>\n",
       "      <td>star wars: episode vii - the force awakens    ...</td>\n",
       "      <td>Doug Walker Rob Walker unknown Doug Walker Doc...</td>\n",
       "    </tr>\n",
       "    <tr>\n",
       "      <th>...</th>\n",
       "      <td>...</td>\n",
       "      <td>...</td>\n",
       "      <td>...</td>\n",
       "      <td>...</td>\n",
       "      <td>...</td>\n",
       "      <td>...</td>\n",
       "      <td>...</td>\n",
       "      <td>...</td>\n",
       "    </tr>\n",
       "    <tr>\n",
       "      <th>5864</th>\n",
       "      <td>5864</td>\n",
       "      <td>Greta Gerwig</td>\n",
       "      <td>Saoirse Ronan</td>\n",
       "      <td>Emma Watson</td>\n",
       "      <td>Florence Pugh</td>\n",
       "      <td>Drama Romance</td>\n",
       "      <td>little women</td>\n",
       "      <td>Saoirse Ronan Emma Watson Florence Pugh Greta ...</td>\n",
       "    </tr>\n",
       "    <tr>\n",
       "      <th>5865</th>\n",
       "      <td>5865</td>\n",
       "      <td>Sam Mendes</td>\n",
       "      <td>George MacKay</td>\n",
       "      <td>Dean-Charles Chapman</td>\n",
       "      <td>Mark Strong</td>\n",
       "      <td>War Drama Action History</td>\n",
       "      <td>1917</td>\n",
       "      <td>George MacKay Dean-Charles Chapman Mark Strong...</td>\n",
       "    </tr>\n",
       "    <tr>\n",
       "      <th>5866</th>\n",
       "      <td>5866</td>\n",
       "      <td>Destin Daniel Cretton</td>\n",
       "      <td>Michael B. Jordan</td>\n",
       "      <td>Jamie Foxx</td>\n",
       "      <td>Brie Larson</td>\n",
       "      <td>Drama Crime</td>\n",
       "      <td>just mercy</td>\n",
       "      <td>Michael B. Jordan Jamie Foxx Brie Larson Desti...</td>\n",
       "    </tr>\n",
       "    <tr>\n",
       "      <th>5867</th>\n",
       "      <td>5867</td>\n",
       "      <td>Chinonye Chukwu</td>\n",
       "      <td>Alfre Woodard</td>\n",
       "      <td>Wendell Pierce</td>\n",
       "      <td>Aldis Hodge</td>\n",
       "      <td>Drama</td>\n",
       "      <td>clemency</td>\n",
       "      <td>Alfre Woodard Wendell Pierce Aldis Hodge Chino...</td>\n",
       "    </tr>\n",
       "    <tr>\n",
       "      <th>5868</th>\n",
       "      <td>5868</td>\n",
       "      <td>Waymon Boone</td>\n",
       "      <td>Mena Suvari</td>\n",
       "      <td>Kevin Pollak</td>\n",
       "      <td>unknown</td>\n",
       "      <td>Horror Thriller</td>\n",
       "      <td>apparition</td>\n",
       "      <td>Mena Suvari Kevin Pollak unknown Waymon Boone ...</td>\n",
       "    </tr>\n",
       "  </tbody>\n",
       "</table>\n",
       "<p>5869 rows × 8 columns</p>\n",
       "</div>"
      ],
      "text/plain": [
       "      Movie_id               Director            Actor_1  \\\n",
       "0            0          James Cameron        CCH Pounder   \n",
       "1            1         Gore Verbinski        Johnny Depp   \n",
       "2            2             Sam Mendes    Christoph Waltz   \n",
       "3            3      Christopher Nolan          Tom Hardy   \n",
       "4            4            Doug Walker        Doug Walker   \n",
       "...        ...                    ...                ...   \n",
       "5864      5864           Greta Gerwig      Saoirse Ronan   \n",
       "5865      5865             Sam Mendes      George MacKay   \n",
       "5866      5866  Destin Daniel Cretton  Michael B. Jordan   \n",
       "5867      5867        Chinonye Chukwu      Alfre Woodard   \n",
       "5868      5868           Waymon Boone        Mena Suvari   \n",
       "\n",
       "                   Actor_2               Actor_3  \\\n",
       "0         Joel David Moore             Wes Studi   \n",
       "1            Orlando Bloom        Jack Davenport   \n",
       "2             Rory Kinnear      Stephanie Sigman   \n",
       "3           Christian Bale  Joseph Gordon-Levitt   \n",
       "4               Rob Walker               unknown   \n",
       "...                    ...                   ...   \n",
       "5864           Emma Watson         Florence Pugh   \n",
       "5865  Dean-Charles Chapman           Mark Strong   \n",
       "5866            Jamie Foxx           Brie Larson   \n",
       "5867        Wendell Pierce           Aldis Hodge   \n",
       "5868          Kevin Pollak               unknown   \n",
       "\n",
       "                               Genres  \\\n",
       "0     Action Adventure Fantasy Sci-Fi   \n",
       "1            Action Adventure Fantasy   \n",
       "2           Action Adventure Thriller   \n",
       "3                     Action Thriller   \n",
       "4                         Documentary   \n",
       "...                               ...   \n",
       "5864                    Drama Romance   \n",
       "5865         War Drama Action History   \n",
       "5866                      Drama Crime   \n",
       "5867                            Drama   \n",
       "5868                  Horror Thriller   \n",
       "\n",
       "                                                  Title  \\\n",
       "0                                                avatar   \n",
       "1              pirates of the caribbean: at world's end   \n",
       "2                                               spectre   \n",
       "3                                 the dark knight rises   \n",
       "4     star wars: episode vii - the force awakens    ...   \n",
       "...                                                 ...   \n",
       "5864                                       little women   \n",
       "5865                                               1917   \n",
       "5866                                         just mercy   \n",
       "5867                                           clemency   \n",
       "5868                                         apparition   \n",
       "\n",
       "                                               Features  \n",
       "0     CCH Pounder Joel David Moore Wes Studi James C...  \n",
       "1     Johnny Depp Orlando Bloom Jack Davenport Gore ...  \n",
       "2     Christoph Waltz Rory Kinnear Stephanie Sigman ...  \n",
       "3     Tom Hardy Christian Bale Joseph Gordon-Levitt ...  \n",
       "4     Doug Walker Rob Walker unknown Doug Walker Doc...  \n",
       "...                                                 ...  \n",
       "5864  Saoirse Ronan Emma Watson Florence Pugh Greta ...  \n",
       "5865  George MacKay Dean-Charles Chapman Mark Strong...  \n",
       "5866  Michael B. Jordan Jamie Foxx Brie Larson Desti...  \n",
       "5867  Alfre Woodard Wendell Pierce Aldis Hodge Chino...  \n",
       "5868  Mena Suvari Kevin Pollak unknown Waymon Boone ...  \n",
       "\n",
       "[5869 rows x 8 columns]"
      ]
     },
     "execution_count": 7,
     "metadata": {},
     "output_type": "execute_result"
    }
   ],
   "source": [
    "data"
   ]
  },
  {
   "cell_type": "code",
   "execution_count": 8,
   "metadata": {
    "ExecuteTime": {
     "end_time": "2021-03-10T19:37:23.433139Z",
     "start_time": "2021-03-10T19:37:22.920873Z"
    }
   },
   "outputs": [],
   "source": [
    "cm = CountVectorizer().fit_transform(data['Features'])"
   ]
  },
  {
   "cell_type": "code",
   "execution_count": 9,
   "metadata": {
    "ExecuteTime": {
     "end_time": "2021-03-10T19:37:25.851008Z",
     "start_time": "2021-03-10T19:37:23.989725Z"
    }
   },
   "outputs": [
    {
     "name": "stdout",
     "output_type": "stream",
     "text": [
      "[[1.         0.24174689 0.16116459 ... 0.         0.         0.        ]\n",
      " [0.24174689 1.         0.18181818 ... 0.         0.         0.        ]\n",
      " [0.16116459 0.18181818 1.         ... 0.         0.         0.10050378]\n",
      " ...\n",
      " [0.         0.         0.         ... 1.         0.10050378 0.        ]\n",
      " [0.         0.         0.         ... 0.10050378 1.         0.        ]\n",
      " [0.         0.         0.10050378 ... 0.         0.         1.        ]]\n"
     ]
    }
   ],
   "source": [
    "cs = cosine_similarity(cm)\n",
    "print(cs)"
   ]
  },
  {
   "cell_type": "code",
   "execution_count": 10,
   "metadata": {
    "ExecuteTime": {
     "end_time": "2021-03-10T19:37:25.929750Z",
     "start_time": "2021-03-10T19:37:25.912890Z"
    }
   },
   "outputs": [
    {
     "data": {
      "text/plain": [
       "(5869, 5869)"
      ]
     },
     "execution_count": 10,
     "metadata": {},
     "output_type": "execute_result"
    }
   ],
   "source": [
    "cs.shape"
   ]
  },
  {
   "cell_type": "code",
   "execution_count": 22,
   "metadata": {
    "ExecuteTime": {
     "end_time": "2021-03-10T19:41:01.515612Z",
     "start_time": "2021-03-10T19:41:01.506433Z"
    }
   },
   "outputs": [],
   "source": [
    "cs = pd.DataFrame(cs, columns = data.Title, index = data.Title)"
   ]
  },
  {
   "cell_type": "code",
   "execution_count": 23,
   "metadata": {
    "ExecuteTime": {
     "end_time": "2021-03-10T19:43:16.023097Z",
     "start_time": "2021-03-10T19:41:38.504728Z"
    }
   },
   "outputs": [],
   "source": [
    "cs.to_csv('data_cs.csv')"
   ]
  },
  {
   "cell_type": "code",
   "execution_count": 11,
   "metadata": {
    "ExecuteTime": {
     "end_time": "2021-03-10T19:37:26.990530Z",
     "start_time": "2021-03-10T19:37:26.986986Z"
    }
   },
   "outputs": [],
   "source": [
    "title = 'avatar'"
   ]
  },
  {
   "cell_type": "code",
   "execution_count": 12,
   "metadata": {
    "ExecuteTime": {
     "end_time": "2021-03-10T19:37:27.712875Z",
     "start_time": "2021-03-10T19:37:27.659187Z"
    }
   },
   "outputs": [],
   "source": [
    "Movie_id = data[data.Title == title]['Movie_id'].values[0]"
   ]
  },
  {
   "cell_type": "code",
   "execution_count": 13,
   "metadata": {
    "ExecuteTime": {
     "end_time": "2021-03-10T19:37:28.499613Z",
     "start_time": "2021-03-10T19:37:28.492728Z"
    }
   },
   "outputs": [],
   "source": [
    "scores = list(enumerate(cs[Movie_id]))"
   ]
  },
  {
   "cell_type": "code",
   "execution_count": 14,
   "metadata": {
    "ExecuteTime": {
     "end_time": "2021-03-10T19:37:29.064210Z",
     "start_time": "2021-03-10T19:37:29.057329Z"
    }
   },
   "outputs": [],
   "source": [
    "sorted_scores = sorted(scores, key=lambda x:x[1], reverse = True)\n",
    "sorted_scores = sorted_scores[1:]"
   ]
  },
  {
   "cell_type": "code",
   "execution_count": 15,
   "metadata": {
    "ExecuteTime": {
     "end_time": "2021-03-10T19:37:29.867850Z",
     "start_time": "2021-03-10T19:37:29.800925Z"
    },
    "scrolled": true
   },
   "outputs": [
    {
     "name": "stdout",
     "output_type": "stream",
     "text": [
      "[(2384, 0.4629100498862758), (595, 0.44474958999666075), (1073, 0.44474958999666075), (1626, 0.41403933560541256), (260, 0.4029114820126901), (3448, 0.4029114820126901), (632, 0.40089186286863654), (3203, 0.40089186286863654), (33, 0.38575837490522985), (52, 0.38575837490522985), (84, 0.38575837490522985), (1059, 0.38575837490522985), (1624, 0.38575837490522985), (2020, 0.38575837490522985), (2396, 0.38575837490522985), (4684, 0.38575837490522985), (14, 0.37062465833055064), (209, 0.37062465833055064), (214, 0.37062465833055064), (215, 0.37062465833055064), (217, 0.37062465833055064), (218, 0.37062465833055064), (311, 0.37062465833055064), (414, 0.37062465833055064), (478, 0.37062465833055064), (1062, 0.37062465833055064), (1464, 0.37062465833055064), (1960, 0.37062465833055064), (2175, 0.37062465833055064), (2574, 0.37062465833055064), (2903, 0.37062465833055064), (3209, 0.37062465833055064), (3506, 0.37062465833055064), (4464, 0.37062465833055064), (4555, 0.37062465833055064), (4907, 0.37062465833055064), (4908, 0.37062465833055064), (4909, 0.37062465833055064), (29, 0.3571428571428572), (40, 0.3571428571428572), (64, 0.3571428571428572), (110, 0.3571428571428572), (191, 0.3571428571428572), (240, 0.3571428571428572), (463, 0.3571428571428572), (491, 0.3571428571428572), (564, 0.3571428571428572), (706, 0.3571428571428572), (725, 0.3571428571428572), (1025, 0.3571428571428572), (1091, 0.3571428571428572), (1283, 0.3571428571428572), (1368, 0.3571428571428572), (1587, 0.3571428571428572), (1743, 0.3571428571428572), (3336, 0.3571428571428572), (3414, 0.3571428571428572), (4470, 0.3571428571428572), (4759, 0.3571428571428572), (17, 0.3450327796711771), (332, 0.3450327796711771), (392, 0.3450327796711771), (468, 0.3450327796711771), (639, 0.3450327796711771), (1771, 0.3450327796711771), (1946, 0.3450327796711771), (2021, 0.3450327796711771), (2042, 0.3450327796711771), (3931, 0.3450327796711771), (3951, 0.3450327796711771), (4541, 0.3450327796711771), (137, 0.33407655239053047), (153, 0.33407655239053047), (911, 0.33407655239053047), (1360, 0.33407655239053047), (2075, 0.33407655239053047), (119, 0.3241018617760822), (27, 0.3223291856101521), (37, 0.3223291856101521), (41, 0.3223291856101521), (96, 0.3223291856101521), (120, 0.3223291856101521), (144, 0.3223291856101521), (145, 0.3223291856101521), (167, 0.3223291856101521), (279, 0.3223291856101521), (5619, 0.3223291856101521), (402, 0.314970394174356), (5, 0.3086066999241839), (9, 0.3086066999241839), (10, 0.3086066999241839), (31, 0.3086066999241839), (32, 0.3086066999241839), (35, 0.3086066999241839), (45, 0.3086066999241839), (54, 0.3086066999241839), (56, 0.3086066999241839), (66, 0.3086066999241839), (75, 0.3086066999241839), (81, 0.3086066999241839), (89, 0.3086066999241839), (154, 0.3086066999241839), (158, 0.3086066999241839), (178, 0.3086066999241839), (232, 0.3086066999241839), (276, 0.3086066999241839), (300, 0.3086066999241839), (374, 0.3086066999241839), (439, 0.3086066999241839), (453, 0.3086066999241839), (456, 0.3086066999241839), (480, 0.3086066999241839), (484, 0.3086066999241839), (811, 0.3086066999241839), (820, 0.3086066999241839), (920, 0.3086066999241839), (966, 0.3086066999241839), (983, 0.3086066999241839), (1393, 0.3086066999241839), (2806, 0.3086066999241839), (3017, 0.3086066999241839), (3083, 0.3086066999241839), (3355, 0.3086066999241839), (3683, 0.3086066999241839), (3929, 0.3086066999241839), (4520, 0.3086066999241839), (4913, 0.3086066999241839), (4964, 0.3086066999241839), (5052, 0.3086066999241839), (5157, 0.3086066999241839), (5226, 0.3086066999241839), (7, 0.2964997266644405), (24, 0.2964997266644405), (25, 0.2964997266644405), (28, 0.2964997266644405), (49, 0.2964997266644405), (67, 0.2964997266644405), (115, 0.2964997266644405), (136, 0.2964997266644405), (148, 0.2964997266644405), (152, 0.2964997266644405), (156, 0.2964997266644405), (198, 0.2964997266644405), (201, 0.2964997266644405), (213, 0.2964997266644405), (225, 0.2964997266644405), (310, 0.2964997266644405), (337, 0.2964997266644405), (386, 0.2964997266644405), (391, 0.2964997266644405), (440, 0.2964997266644405), (481, 0.2964997266644405), (572, 0.2964997266644405), (645, 0.2964997266644405), (687, 0.2964997266644405), (703, 0.2964997266644405), (734, 0.2964997266644405), (749, 0.2964997266644405), (778, 0.2964997266644405), (850, 0.2964997266644405), (955, 0.2964997266644405), (1050, 0.2964997266644405), (1154, 0.2964997266644405), (1180, 0.2964997266644405), (1274, 0.2964997266644405), (1299, 0.2964997266644405), (1302, 0.2964997266644405), (1306, 0.2964997266644405), (1426, 0.2964997266644405), (1469, 0.2964997266644405), (1558, 0.2964997266644405), (1608, 0.2964997266644405), (1723, 0.2964997266644405), (1776, 0.2964997266644405), (1800, 0.2964997266644405), (1881, 0.2964997266644405), (2415, 0.2964997266644405), (2568, 0.2964997266644405), (2660, 0.2964997266644405), (2683, 0.2964997266644405), (2706, 0.2964997266644405), (2817, 0.2964997266644405), (2842, 0.2964997266644405), (2892, 0.2964997266644405), (2987, 0.2964997266644405), (3162, 0.2964997266644405), (3306, 0.2964997266644405), (4081, 0.2964997266644405), (4120, 0.2964997266644405), (4292, 0.2964997266644405), (4709, 0.2964997266644405), (4741, 0.2964997266644405), (4821, 0.2964997266644405), (5024, 0.2964997266644405), (5276, 0.2964997266644405), (5685, 0.2964997266644405), (26, 0.28571428571428575), (39, 0.28571428571428575), (68, 0.28571428571428575), (73, 0.28571428571428575), (77, 0.28571428571428575), (86, 0.28571428571428575), (99, 0.28571428571428575), (418, 0.28571428571428575), (433, 0.28571428571428575), (457, 0.28571428571428575), (469, 0.28571428571428575), (514, 0.28571428571428575), (552, 0.28571428571428575), (733, 0.28571428571428575), (746, 0.28571428571428575), (767, 0.28571428571428575), (794, 0.28571428571428575), (840, 0.28571428571428575), (900, 0.28571428571428575), (1065, 0.28571428571428575), (1114, 0.28571428571428575), (1134, 0.28571428571428575), (1171, 0.28571428571428575), (1282, 0.28571428571428575), (1342, 0.28571428571428575), (1441, 0.28571428571428575), (1457, 0.28571428571428575), (1510, 0.28571428571428575), (1618, 0.28571428571428575), (1769, 0.28571428571428575), (1885, 0.28571428571428575), (2013, 0.28571428571428575), (2102, 0.28571428571428575), (2177, 0.28571428571428575), (2589, 0.28571428571428575), (2971, 0.28571428571428575), (3144, 0.28571428571428575), (3178, 0.28571428571428575), (3776, 0.28571428571428575), (4031, 0.28571428571428575), (4407, 0.28571428571428575), (4760, 0.28571428571428575), (4977, 0.28571428571428575), (5311, 0.28571428571428575), (44, 0.2760262237369417), (59, 0.2760262237369417), (79, 0.2760262237369417), (185, 0.2760262237369417), (352, 0.2760262237369417), (454, 0.2760262237369417), (584, 0.2760262237369417), (653, 0.2760262237369417), (1505, 0.2760262237369417), (1735, 0.2760262237369417), (1801, 0.2760262237369417), (3628, 0.2760262237369417), (4617, 0.2760262237369417), (4930, 0.2760262237369417), (5131, 0.2760262237369417), (5178, 0.2760262237369417), (130, 0.2672612419124244), (425, 0.2672612419124244), (581, 0.2672612419124244), (1320, 0.2672612419124244), (1593, 0.2672612419124244), (2236, 0.2672612419124244), (2298, 0.2672612419124244), (3198, 0.2672612419124244), (4164, 0.2672612419124244), (4309, 0.2672612419124244), (5272, 0.2672612419124244), (60, 0.25928148942086576), (70, 0.25928148942086576), (78, 0.25928148942086576), (558, 0.25928148942086576), (957, 0.25928148942086576), (1325, 0.25928148942086576), (1799, 0.25928148942086576), (5350, 0.25928148942086576), (18, 0.253546276418555), (21, 0.253546276418555), (83, 0.253546276418555), (87, 0.253546276418555), (2324, 0.253546276418555), (3335, 0.253546276418555), (3635, 0.253546276418555), (4332, 0.253546276418555), (4738, 0.253546276418555), (5244, 0.253546276418555), (5256, 0.253546276418555), (1015, 0.25197631533948484), (2242, 0.25197631533948484), (1, 0.24174688920761409), (12, 0.24174688920761409), (16, 0.24174688920761409), (19, 0.24174688920761409), (46, 0.24174688920761409), (93, 0.24174688920761409), (95, 0.24174688920761409), (111, 0.24174688920761409), (113, 0.24174688920761409), (114, 0.24174688920761409), (117, 0.24174688920761409), (147, 0.24174688920761409), (151, 0.24174688920761409), (186, 0.24174688920761409), (205, 0.24174688920761409), (244, 0.24174688920761409), (307, 0.24174688920761409), (459, 0.24174688920761409), (559, 0.24174688920761409), (574, 0.24174688920761409), (587, 0.24174688920761409), (612, 0.24174688920761409), (614, 0.24174688920761409), (643, 0.24174688920761409), (783, 0.24174688920761409), (818, 0.24174688920761409), (835, 0.24174688920761409), (888, 0.24174688920761409), (972, 0.24174688920761409), (988, 0.24174688920761409), (1068, 0.24174688920761409), (1269, 0.24174688920761409), (1414, 0.24174688920761409), (1428, 0.24174688920761409), (1965, 0.24174688920761409), (2104, 0.24174688920761409), (2265, 0.24174688920761409), (2347, 0.24174688920761409), (2353, 0.24174688920761409), (2474, 0.24174688920761409), (2537, 0.24174688920761409), (2637, 0.24174688920761409), (2696, 0.24174688920761409), (2749, 0.24174688920761409), (3155, 0.24174688920761409), (3345, 0.24174688920761409), (3436, 0.24174688920761409), (3470, 0.24174688920761409), (3622, 0.24174688920761409), (4052, 0.24174688920761409), (4228, 0.24174688920761409), (4239, 0.24174688920761409), (4246, 0.24174688920761409), (4334, 0.24174688920761409), (4643, 0.24174688920761409), (4910, 0.24174688920761409), (4915, 0.24174688920761409), (4953, 0.24174688920761409), (5009, 0.24174688920761409), (5150, 0.24174688920761409), (5268, 0.24174688920761409), (5398, 0.24174688920761409), (5416, 0.24174688920761409), (5467, 0.24174688920761409), (5561, 0.24174688920761409), (5598, 0.24174688920761409), (5678, 0.24174688920761409), (5706, 0.24174688920761409), (5754, 0.24174688920761409), (8, 0.2314550249431379), (15, 0.2314550249431379), (43, 0.2314550249431379), (71, 0.2314550249431379), (85, 0.2314550249431379), (101, 0.2314550249431379), (105, 0.2314550249431379), (124, 0.2314550249431379), (127, 0.2314550249431379), (138, 0.2314550249431379), (206, 0.2314550249431379), (234, 0.2314550249431379), (246, 0.2314550249431379), (253, 0.2314550249431379), (263, 0.2314550249431379), (273, 0.2314550249431379), (280, 0.2314550249431379), (285, 0.2314550249431379), (289, 0.2314550249431379), (293, 0.2314550249431379), (305, 0.2314550249431379), (306, 0.2314550249431379), (377, 0.2314550249431379), (446, 0.2314550249431379), (449, 0.2314550249431379), (460, 0.2314550249431379), (519, 0.2314550249431379), (568, 0.2314550249431379), (571, 0.2314550249431379), (578, 0.2314550249431379), (589, 0.2314550249431379), (605, 0.2314550249431379), (636, 0.2314550249431379), (654, 0.2314550249431379), (694, 0.2314550249431379), (696, 0.2314550249431379), (699, 0.2314550249431379), (714, 0.2314550249431379), (756, 0.2314550249431379), (763, 0.2314550249431379), (765, 0.2314550249431379), (913, 0.2314550249431379), (964, 0.2314550249431379), (975, 0.2314550249431379), (1034, 0.2314550249431379), (1048, 0.2314550249431379), (1131, 0.2314550249431379), (1132, 0.2314550249431379), (1196, 0.2314550249431379), (1246, 0.2314550249431379), (1255, 0.2314550249431379), (1268, 0.2314550249431379), (1276, 0.2314550249431379), (1298, 0.2314550249431379), (1346, 0.2314550249431379), (1357, 0.2314550249431379), (1373, 0.2314550249431379), (1376, 0.2314550249431379), (1413, 0.2314550249431379), (1465, 0.2314550249431379), (1528, 0.2314550249431379), (1617, 0.2314550249431379), (1654, 0.2314550249431379), (1681, 0.2314550249431379), (1707, 0.2314550249431379), (1757, 0.2314550249431379), (1889, 0.2314550249431379), (1907, 0.2314550249431379), (1910, 0.2314550249431379), (2130, 0.2314550249431379), (2182, 0.2314550249431379), (2183, 0.2314550249431379), (2307, 0.2314550249431379), (2371, 0.2314550249431379), (2476, 0.2314550249431379), (2492, 0.2314550249431379), (2956, 0.2314550249431379), (2999, 0.2314550249431379), (3007, 0.2314550249431379), (3145, 0.2314550249431379), (3282, 0.2314550249431379), (3297, 0.2314550249431379), (3382, 0.2314550249431379), (3586, 0.2314550249431379), (3723, 0.2314550249431379), (3876, 0.2314550249431379), (3886, 0.2314550249431379), (3925, 0.2314550249431379), (4069, 0.2314550249431379), (4183, 0.2314550249431379), (4373, 0.2314550249431379), (4663, 0.2314550249431379), (4758, 0.2314550249431379), (4840, 0.2314550249431379), (4917, 0.2314550249431379), (4965, 0.2314550249431379), (4984, 0.2314550249431379), (5048, 0.2314550249431379), (5095, 0.2314550249431379), (5246, 0.2314550249431379), (5304, 0.2314550249431379), (5410, 0.2314550249431379), (5725, 0.2314550249431379), (50, 0.2223747949983304), (62, 0.2223747949983304), (63, 0.2223747949983304), (74, 0.2223747949983304), (91, 0.2223747949983304), (149, 0.2223747949983304), (170, 0.2223747949983304), (182, 0.2223747949983304), (208, 0.2223747949983304), (216, 0.2223747949983304), (222, 0.2223747949983304), (223, 0.2223747949983304), (226, 0.2223747949983304), (249, 0.2223747949983304), (258, 0.2223747949983304), (282, 0.2223747949983304), (308, 0.2223747949983304), (336, 0.2223747949983304), (340, 0.2223747949983304), (343, 0.2223747949983304), (346, 0.2223747949983304), (349, 0.2223747949983304), (394, 0.2223747949983304), (398, 0.2223747949983304), (445, 0.2223747949983304), (474, 0.2223747949983304), (516, 0.2223747949983304), (554, 0.2223747949983304), (579, 0.2223747949983304), (635, 0.2223747949983304), (710, 0.2223747949983304), (719, 0.2223747949983304), (795, 0.2223747949983304), (831, 0.2223747949983304), (921, 0.2223747949983304), (936, 0.2223747949983304), (994, 0.2223747949983304), (1069, 0.2223747949983304), (1144, 0.2223747949983304), (1168, 0.2223747949983304), (1173, 0.2223747949983304), (1192, 0.2223747949983304), (1250, 0.2223747949983304), (1270, 0.2223747949983304), (1311, 0.2223747949983304), (1354, 0.2223747949983304), (1356, 0.2223747949983304), (1390, 0.2223747949983304), (1404, 0.2223747949983304), (1433, 0.2223747949983304), (1445, 0.2223747949983304), (1491, 0.2223747949983304), (1498, 0.2223747949983304), (1600, 0.2223747949983304), (1657, 0.2223747949983304), (1687, 0.2223747949983304), (1760, 0.2223747949983304), (1817, 0.2223747949983304), (1884, 0.2223747949983304), (1906, 0.2223747949983304), (1958, 0.2223747949983304), (1987, 0.2223747949983304), (2058, 0.2223747949983304), (2127, 0.2223747949983304), (2231, 0.2223747949983304), (2355, 0.2223747949983304), (2369, 0.2223747949983304), (2411, 0.2223747949983304), (2470, 0.2223747949983304), (2563, 0.2223747949983304), (2636, 0.2223747949983304), (2721, 0.2223747949983304), (2734, 0.2223747949983304), (2746, 0.2223747949983304), (2758, 0.2223747949983304), (2773, 0.2223747949983304), (2889, 0.2223747949983304), (2983, 0.2223747949983304), (3006, 0.2223747949983304), (3237, 0.2223747949983304), (3361, 0.2223747949983304), (3395, 0.2223747949983304), (3523, 0.2223747949983304), (3657, 0.2223747949983304), (4114, 0.2223747949983304), (4522, 0.2223747949983304), (4644, 0.2223747949983304), (4725, 0.2223747949983304), (4754, 0.2223747949983304), (4779, 0.2223747949983304), (4782, 0.2223747949983304), (4809, 0.2223747949983304), (4937, 0.2223747949983304), (4980, 0.2223747949983304), (5423, 0.2223747949983304), (5444, 0.2223747949983304), (5461, 0.2223747949983304), (5560, 0.2223747949983304), (5640, 0.2223747949983304), (72, 0.2142857142857143), (90, 0.2142857142857143), (131, 0.2142857142857143), (132, 0.2142857142857143), (146, 0.2142857142857143), (172, 0.2142857142857143), (235, 0.2142857142857143), (241, 0.2142857142857143), (284, 0.2142857142857143), (317, 0.2142857142857143), (404, 0.2142857142857143), (413, 0.2142857142857143), (487, 0.2142857142857143), (517, 0.2142857142857143), (524, 0.2142857142857143), (586, 0.2142857142857143), (671, 0.2142857142857143), (723, 0.2142857142857143), (752, 0.2142857142857143), (757, 0.2142857142857143), (779, 0.2142857142857143), (844, 0.2142857142857143), (940, 0.2142857142857143), (1210, 0.2142857142857143), (1251, 0.2142857142857143), (1254, 0.2142857142857143), (1304, 0.2142857142857143), (1628, 0.2142857142857143), (1782, 0.2142857142857143), (2132, 0.2142857142857143), (2361, 0.2142857142857143), (2391, 0.2142857142857143), (2803, 0.2142857142857143), (2861, 0.2142857142857143), (3048, 0.2142857142857143), (3127, 0.2142857142857143), (3246, 0.2142857142857143), (3379, 0.2142857142857143), (3884, 0.2142857142857143), (3934, 0.2142857142857143), (4906, 0.2142857142857143), (4916, 0.2142857142857143), (5003, 0.2142857142857143), (5101, 0.2142857142857143), (5149, 0.2142857142857143), (5210, 0.2142857142857143), (5219, 0.2142857142857143), (168, 0.20701966780270625), (188, 0.20701966780270625), (985, 0.20701966780270625), (990, 0.20701966780270625), (1177, 0.20701966780270625), (1332, 0.20701966780270625), (1502, 0.20701966780270625), (1542, 0.20701966780270625), (1583, 0.20701966780270625), (1954, 0.20701966780270625), (2141, 0.20701966780270625), (3772, 0.20701966780270625), (4199, 0.20701966780270625), (4832, 0.20701966780270625), (4927, 0.20701966780270625), (5584, 0.20701966780270625), (521, 0.2004459314343183), (1929, 0.2004459314343183), (2144, 0.2004459314343183), (3412, 0.2004459314343183), (4389, 0.2004459314343183), (4727, 0.2004459314343183), (4896, 0.2004459314343183), (5647, 0.2004459314343183), (1265, 0.19446111706564934), (2241, 0.19446111706564934), (5184, 0.19446111706564934), (5512, 0.19446111706564934), (5227, 0.18898223650461363), (5614, 0.18898223650461363), (5516, 0.17928429140015906), (196, 0.1781741612749496), (809, 0.1781741612749496), (1127, 0.1781741612749496), (2097, 0.1781741612749496), (3920, 0.1781741612749496), (4873, 0.1781741612749496), (5115, 0.1781741612749496), (5168, 0.1781741612749496), (5260, 0.1781741612749496), (11, 0.16903085094570333), (23, 0.16903085094570333), (42, 0.16903085094570333), (107, 0.16903085094570333), (180, 0.16903085094570333), (202, 0.16903085094570333), (236, 0.16903085094570333), (313, 0.16903085094570333), (420, 0.16903085094570333), (471, 0.16903085094570333), (522, 0.16903085094570333), (543, 0.16903085094570333), (622, 0.16903085094570333), (659, 0.16903085094570333), (816, 0.16903085094570333), (870, 0.16903085094570333), (874, 0.16903085094570333), (943, 0.16903085094570333), (1337, 0.16903085094570333), (1358, 0.16903085094570333), (1474, 0.16903085094570333), (1642, 0.16903085094570333), (1670, 0.16903085094570333), (1685, 0.16903085094570333), (1778, 0.16903085094570333), (1902, 0.16903085094570333), (2059, 0.16903085094570333), (2096, 0.16903085094570333), (2206, 0.16903085094570333), (2262, 0.16903085094570333), (2375, 0.16903085094570333), (3197, 0.16903085094570333), (3220, 0.16903085094570333), (3228, 0.16903085094570333), (3305, 0.16903085094570333), (3409, 0.16903085094570333), (3502, 0.16903085094570333), (3798, 0.16903085094570333), (3800, 0.16903085094570333), (3871, 0.16903085094570333), (4565, 0.16903085094570333), (4682, 0.16903085094570333), (4946, 0.16903085094570333), (4968, 0.16903085094570333), (5105, 0.16903085094570333), (5170, 0.16903085094570333), (5177, 0.16903085094570333), (5212, 0.16903085094570333), (5280, 0.16903085094570333), (5308, 0.16903085094570333), (5514, 0.16903085094570333), (5615, 0.16903085094570333), (5780, 0.16903085094570333), (5836, 0.16903085094570333), (2, 0.16116459280507606), (13, 0.16116459280507606), (38, 0.16116459280507606), (55, 0.16116459280507606), (88, 0.16116459280507606), (97, 0.16116459280507606), (122, 0.16116459280507606), (128, 0.16116459280507606), (135, 0.16116459280507606), (140, 0.16116459280507606), (160, 0.16116459280507606), (174, 0.16116459280507606), (183, 0.16116459280507606), (184, 0.16116459280507606), (194, 0.16116459280507606), (195, 0.16116459280507606), (199, 0.16116459280507606), (212, 0.16116459280507606), (245, 0.16116459280507606), (271, 0.16116459280507606), (286, 0.16116459280507606), (312, 0.16116459280507606), (315, 0.16116459280507606), (316, 0.16116459280507606), (330, 0.16116459280507606), (342, 0.16116459280507606), (362, 0.16116459280507606), (409, 0.16116459280507606), (428, 0.16116459280507606), (442, 0.16116459280507606), (475, 0.16116459280507606), (506, 0.16116459280507606), (532, 0.16116459280507606), (533, 0.16116459280507606), (548, 0.16116459280507606), (560, 0.16116459280507606), (601, 0.16116459280507606), (651, 0.16116459280507606), (670, 0.16116459280507606), (701, 0.16116459280507606), (732, 0.16116459280507606), (745, 0.16116459280507606), (760, 0.16116459280507606), (766, 0.16116459280507606), (785, 0.16116459280507606), (868, 0.16116459280507606), (912, 0.16116459280507606), (980, 0.16116459280507606), (981, 0.16116459280507606), (984, 0.16116459280507606), (998, 0.16116459280507606), (1054, 0.16116459280507606), (1056, 0.16116459280507606), (1057, 0.16116459280507606), (1076, 0.16116459280507606), (1111, 0.16116459280507606), (1123, 0.16116459280507606), (1126, 0.16116459280507606), (1219, 0.16116459280507606), (1262, 0.16116459280507606), (1323, 0.16116459280507606), (1380, 0.16116459280507606), (1444, 0.16116459280507606), (1521, 0.16116459280507606), (1561, 0.16116459280507606), (1631, 0.16116459280507606), (1652, 0.16116459280507606), (1697, 0.16116459280507606), (1715, 0.16116459280507606), (1719, 0.16116459280507606), (1766, 0.16116459280507606), (1826, 0.16116459280507606), (1970, 0.16116459280507606), (1995, 0.16116459280507606), (2001, 0.16116459280507606), (2028, 0.16116459280507606), (2061, 0.16116459280507606), (2193, 0.16116459280507606), (2196, 0.16116459280507606), (2218, 0.16116459280507606), (2254, 0.16116459280507606), (2338, 0.16116459280507606), (2425, 0.16116459280507606), (2447, 0.16116459280507606), (2493, 0.16116459280507606), (2615, 0.16116459280507606), (2658, 0.16116459280507606), (2675, 0.16116459280507606), (2709, 0.16116459280507606), (2787, 0.16116459280507606), (2808, 0.16116459280507606), (2826, 0.16116459280507606), (2832, 0.16116459280507606), (2872, 0.16116459280507606), (2924, 0.16116459280507606), (2957, 0.16116459280507606), (2995, 0.16116459280507606), (3056, 0.16116459280507606), (3059, 0.16116459280507606), (3137, 0.16116459280507606), (3147, 0.16116459280507606), (3152, 0.16116459280507606), (3205, 0.16116459280507606), (3243, 0.16116459280507606), (3249, 0.16116459280507606), (3271, 0.16116459280507606), (3331, 0.16116459280507606), (3356, 0.16116459280507606), (3366, 0.16116459280507606), (3405, 0.16116459280507606), (3437, 0.16116459280507606), (3548, 0.16116459280507606), (3568, 0.16116459280507606), (3714, 0.16116459280507606), (3732, 0.16116459280507606), (3748, 0.16116459280507606), (3759, 0.16116459280507606), (3824, 0.16116459280507606), (3840, 0.16116459280507606), (3914, 0.16116459280507606), (3933, 0.16116459280507606), (3980, 0.16116459280507606), (3995, 0.16116459280507606), (4024, 0.16116459280507606), (4043, 0.16116459280507606), (4091, 0.16116459280507606), (4113, 0.16116459280507606), (4143, 0.16116459280507606), (4173, 0.16116459280507606), (4306, 0.16116459280507606), (4342, 0.16116459280507606), (4368, 0.16116459280507606), (4387, 0.16116459280507606), (4394, 0.16116459280507606), (4402, 0.16116459280507606), (4467, 0.16116459280507606), (4471, 0.16116459280507606), (4575, 0.16116459280507606), (4612, 0.16116459280507606), (4800, 0.16116459280507606), (4844, 0.16116459280507606), (4857, 0.16116459280507606), (4983, 0.16116459280507606), (4985, 0.16116459280507606), (5110, 0.16116459280507606), (5252, 0.16116459280507606), (5321, 0.16116459280507606), (5327, 0.16116459280507606), (5385, 0.16116459280507606), (5424, 0.16116459280507606), (5425, 0.16116459280507606), (5456, 0.16116459280507606), (5536, 0.16116459280507606), (5603, 0.16116459280507606), (5659, 0.16116459280507606), (5675, 0.16116459280507606), (5742, 0.16116459280507606), (5757, 0.16116459280507606), (5808, 0.16116459280507606), (5811, 0.16116459280507606), (5825, 0.16116459280507606), (5837, 0.16116459280507606), (5843, 0.16116459280507606), (5852, 0.16116459280507606), (5860, 0.16116459280507606), (5861, 0.16116459280507606), (22, 0.15430334996209194), (80, 0.15430334996209194), (82, 0.15430334996209194), (92, 0.15430334996209194), (102, 0.15430334996209194), (109, 0.15430334996209194), (141, 0.15430334996209194), (155, 0.15430334996209194), (169, 0.15430334996209194), (175, 0.15430334996209194), (176, 0.15430334996209194), (181, 0.15430334996209194), (203, 0.15430334996209194), (220, 0.15430334996209194), (224, 0.15430334996209194), (227, 0.15430334996209194), (228, 0.15430334996209194), (237, 0.15430334996209194), (248, 0.15430334996209194), (251, 0.15430334996209194), (259, 0.15430334996209194), (267, 0.15430334996209194), (274, 0.15430334996209194), (275, 0.15430334996209194), (283, 0.15430334996209194), (297, 0.15430334996209194), (314, 0.15430334996209194), (325, 0.15430334996209194), (354, 0.15430334996209194), (360, 0.15430334996209194), (376, 0.15430334996209194), (385, 0.15430334996209194), (387, 0.15430334996209194), (389, 0.15430334996209194), (390, 0.15430334996209194), (422, 0.15430334996209194), (423, 0.15430334996209194), (429, 0.15430334996209194), (438, 0.15430334996209194), (451, 0.15430334996209194), (461, 0.15430334996209194), (483, 0.15430334996209194), (485, 0.15430334996209194), (497, 0.15430334996209194), (510, 0.15430334996209194), (512, 0.15430334996209194), (539, 0.15430334996209194), (547, 0.15430334996209194), (550, 0.15430334996209194), (551, 0.15430334996209194), (573, 0.15430334996209194), (666, 0.15430334996209194), (674, 0.15430334996209194), (709, 0.15430334996209194), (748, 0.15430334996209194), (754, 0.15430334996209194), (761, 0.15430334996209194), (762, 0.15430334996209194), (773, 0.15430334996209194), (802, 0.15430334996209194), (813, 0.15430334996209194), (815, 0.15430334996209194), (878, 0.15430334996209194), (880, 0.15430334996209194), (881, 0.15430334996209194), (918, 0.15430334996209194), (925, 0.15430334996209194), (939, 0.15430334996209194), (958, 0.15430334996209194), (997, 0.15430334996209194), (1001, 0.15430334996209194), (1009, 0.15430334996209194), (1036, 0.15430334996209194), (1040, 0.15430334996209194), (1049, 0.15430334996209194), (1053, 0.15430334996209194), (1061, 0.15430334996209194), (1081, 0.15430334996209194), (1087, 0.15430334996209194), (1118, 0.15430334996209194), (1178, 0.15430334996209194), (1179, 0.15430334996209194), (1218, 0.15430334996209194), (1249, 0.15430334996209194), (1253, 0.15430334996209194), (1259, 0.15430334996209194), (1286, 0.15430334996209194), (1287, 0.15430334996209194), (1322, 0.15430334996209194), (1330, 0.15430334996209194), (1336, 0.15430334996209194), (1407, 0.15430334996209194), (1447, 0.15430334996209194), (1470, 0.15430334996209194), (1480, 0.15430334996209194), (1493, 0.15430334996209194), (1601, 0.15430334996209194), (1623, 0.15430334996209194), (1627, 0.15430334996209194), (1659, 0.15430334996209194), (1694, 0.15430334996209194), (1725, 0.15430334996209194), (1734, 0.15430334996209194), (1796, 0.15430334996209194), (1814, 0.15430334996209194), (1824, 0.15430334996209194), (1829, 0.15430334996209194), (1837, 0.15430334996209194), (1870, 0.15430334996209194), (1872, 0.15430334996209194), (1924, 0.15430334996209194), (1937, 0.15430334996209194), (1957, 0.15430334996209194), (1967, 0.15430334996209194), (1989, 0.15430334996209194), (2017, 0.15430334996209194), (2018, 0.15430334996209194), (2088, 0.15430334996209194), (2117, 0.15430334996209194), (2129, 0.15430334996209194), (2150, 0.15430334996209194), (2197, 0.15430334996209194), (2198, 0.15430334996209194), (2215, 0.15430334996209194), (2225, 0.15430334996209194), (2234, 0.15430334996209194), (2270, 0.15430334996209194), (2275, 0.15430334996209194), (2294, 0.15430334996209194), (2329, 0.15430334996209194), (2421, 0.15430334996209194), (2424, 0.15430334996209194), (2442, 0.15430334996209194), (2466, 0.15430334996209194), (2517, 0.15430334996209194), (2523, 0.15430334996209194), (2587, 0.15430334996209194), (2594, 0.15430334996209194), (2612, 0.15430334996209194), (2620, 0.15430334996209194), (2621, 0.15430334996209194), (2671, 0.15430334996209194), (2783, 0.15430334996209194), (2812, 0.15430334996209194), (2815, 0.15430334996209194), (2834, 0.15430334996209194), (2858, 0.15430334996209194), (2954, 0.15430334996209194), (2988, 0.15430334996209194), (2997, 0.15430334996209194), (3023, 0.15430334996209194), (3066, 0.15430334996209194), (3142, 0.15430334996209194), (3149, 0.15430334996209194), (3156, 0.15430334996209194), (3230, 0.15430334996209194), (3251, 0.15430334996209194), (3301, 0.15430334996209194), (3338, 0.15430334996209194), (3363, 0.15430334996209194), (3371, 0.15430334996209194), (3377, 0.15430334996209194), (3408, 0.15430334996209194), (3446, 0.15430334996209194), (3459, 0.15430334996209194), (3575, 0.15430334996209194), (3639, 0.15430334996209194), (3645, 0.15430334996209194), (3666, 0.15430334996209194), (3670, 0.15430334996209194), (3764, 0.15430334996209194), (3818, 0.15430334996209194), (3823, 0.15430334996209194), (3991, 0.15430334996209194), (4008, 0.15430334996209194), (4009, 0.15430334996209194), (4040, 0.15430334996209194), (4084, 0.15430334996209194), (4112, 0.15430334996209194), (4170, 0.15430334996209194), (4176, 0.15430334996209194), (4205, 0.15430334996209194), (4211, 0.15430334996209194), (4279, 0.15430334996209194), (4311, 0.15430334996209194), (4354, 0.15430334996209194), (4371, 0.15430334996209194), (4414, 0.15430334996209194), (4428, 0.15430334996209194), (4447, 0.15430334996209194), (4468, 0.15430334996209194), (4537, 0.15430334996209194), (4559, 0.15430334996209194), (4593, 0.15430334996209194), (4620, 0.15430334996209194), (4773, 0.15430334996209194), (4784, 0.15430334996209194), (4855, 0.15430334996209194), (4863, 0.15430334996209194), (4876, 0.15430334996209194), (4925, 0.15430334996209194), (4951, 0.15430334996209194), (4973, 0.15430334996209194), (4990, 0.15430334996209194), (5045, 0.15430334996209194), (5053, 0.15430334996209194), (5121, 0.15430334996209194), (5142, 0.15430334996209194), (5215, 0.15430334996209194), (5232, 0.15430334996209194), (5241, 0.15430334996209194), (5273, 0.15430334996209194), (5374, 0.15430334996209194), (5378, 0.15430334996209194), (5463, 0.15430334996209194), (5487, 0.15430334996209194), (5491, 0.15430334996209194), (5519, 0.15430334996209194), (5654, 0.15430334996209194), (5739, 0.15430334996209194), (5821, 0.15430334996209194), (30, 0.14824986333222026), (36, 0.14824986333222026), (48, 0.14824986333222026), (94, 0.14824986333222026), (139, 0.14824986333222026), (162, 0.14824986333222026), (200, 0.14824986333222026), (207, 0.14824986333222026), (238, 0.14824986333222026), (242, 0.14824986333222026), (250, 0.14824986333222026), (270, 0.14824986333222026), (272, 0.14824986333222026), (322, 0.14824986333222026), (323, 0.14824986333222026), (324, 0.14824986333222026), (339, 0.14824986333222026), (348, 0.14824986333222026), (380, 0.14824986333222026), (384, 0.14824986333222026), (397, 0.14824986333222026), (448, 0.14824986333222026), (458, 0.14824986333222026), (464, 0.14824986333222026), (486, 0.14824986333222026), (520, 0.14824986333222026), (526, 0.14824986333222026), (544, 0.14824986333222026), (566, 0.14824986333222026), (582, 0.14824986333222026), (598, 0.14824986333222026), (604, 0.14824986333222026), (610, 0.14824986333222026), (647, 0.14824986333222026), (665, 0.14824986333222026), (680, 0.14824986333222026), (712, 0.14824986333222026), (731, 0.14824986333222026), (743, 0.14824986333222026), (772, 0.14824986333222026), (797, 0.14824986333222026), (822, 0.14824986333222026), (839, 0.14824986333222026), (879, 0.14824986333222026), (897, 0.14824986333222026), (902, 0.14824986333222026), (965, 0.14824986333222026), (1016, 0.14824986333222026), (1058, 0.14824986333222026), (1082, 0.14824986333222026), (1124, 0.14824986333222026), (1175, 0.14824986333222026), (1214, 0.14824986333222026), (1236, 0.14824986333222026), (1237, 0.14824986333222026), (1239, 0.14824986333222026), (1257, 0.14824986333222026), (1301, 0.14824986333222026), (1375, 0.14824986333222026), (1392, 0.14824986333222026), (1399, 0.14824986333222026), (1456, 0.14824986333222026), (1483, 0.14824986333222026), (1517, 0.14824986333222026), (1529, 0.14824986333222026), (1611, 0.14824986333222026), (1637, 0.14824986333222026), (1722, 0.14824986333222026), (1738, 0.14824986333222026), (1845, 0.14824986333222026), (1909, 0.14824986333222026), (1947, 0.14824986333222026), (2049, 0.14824986333222026), (2062, 0.14824986333222026), (2090, 0.14824986333222026), (2136, 0.14824986333222026), (2159, 0.14824986333222026), (2203, 0.14824986333222026), (2208, 0.14824986333222026), (2240, 0.14824986333222026), (2273, 0.14824986333222026), (2277, 0.14824986333222026), (2327, 0.14824986333222026), (2390, 0.14824986333222026), (2409, 0.14824986333222026), (2456, 0.14824986333222026), (2463, 0.14824986333222026), (2468, 0.14824986333222026), (2533, 0.14824986333222026), (2538, 0.14824986333222026), (2543, 0.14824986333222026), (2549, 0.14824986333222026), (2552, 0.14824986333222026), (2618, 0.14824986333222026), (2652, 0.14824986333222026), (2716, 0.14824986333222026), (2737, 0.14824986333222026), (2743, 0.14824986333222026), (2755, 0.14824986333222026), (2810, 0.14824986333222026), (2821, 0.14824986333222026), (2891, 0.14824986333222026), (3011, 0.14824986333222026), (3185, 0.14824986333222026), (3227, 0.14824986333222026), (3289, 0.14824986333222026), (3324, 0.14824986333222026), (3563, 0.14824986333222026), (3618, 0.14824986333222026), (3682, 0.14824986333222026), (3686, 0.14824986333222026), (3741, 0.14824986333222026), (3770, 0.14824986333222026), (3771, 0.14824986333222026), (3915, 0.14824986333222026), (3947, 0.14824986333222026), (3982, 0.14824986333222026), (4019, 0.14824986333222026), (4051, 0.14824986333222026), (4062, 0.14824986333222026), (4074, 0.14824986333222026), (4204, 0.14824986333222026), (4280, 0.14824986333222026), (4434, 0.14824986333222026), (4492, 0.14824986333222026), (4497, 0.14824986333222026), (4538, 0.14824986333222026), (4546, 0.14824986333222026), (4660, 0.14824986333222026), (4685, 0.14824986333222026), (4693, 0.14824986333222026), (4753, 0.14824986333222026), (4791, 0.14824986333222026), (4806, 0.14824986333222026), (4814, 0.14824986333222026), (4933, 0.14824986333222026), (4944, 0.14824986333222026), (4949, 0.14824986333222026), (5006, 0.14824986333222026), (5088, 0.14824986333222026), (5134, 0.14824986333222026), (5213, 0.14824986333222026), (5296, 0.14824986333222026), (5335, 0.14824986333222026), (5408, 0.14824986333222026), (5409, 0.14824986333222026), (5500, 0.14824986333222026), (5586, 0.14824986333222026), (5620, 0.14824986333222026), (5625, 0.14824986333222026), (5641, 0.14824986333222026), (5687, 0.14824986333222026), (5717, 0.14824986333222026), (5736, 0.14824986333222026), (6, 0.14285714285714288), (20, 0.14285714285714288), (69, 0.14285714285714288), (76, 0.14285714285714288), (104, 0.14285714285714288), (112, 0.14285714285714288), (118, 0.14285714285714288), (166, 0.14285714285714288), (193, 0.14285714285714288), (219, 0.14285714285714288), (288, 0.14285714285714288), (333, 0.14285714285714288), (344, 0.14285714285714288), (356, 0.14285714285714288), (407, 0.14285714285714288), (434, 0.14285714285714288), (447, 0.14285714285714288), (476, 0.14285714285714288), (540, 0.14285714285714288), (619, 0.14285714285714288), (657, 0.14285714285714288), (676, 0.14285714285714288), (708, 0.14285714285714288), (916, 0.14285714285714288), (1010, 0.14285714285714288), (1064, 0.14285714285714288), (1084, 0.14285714285714288), (1261, 0.14285714285714288), (1266, 0.14285714285714288), (1273, 0.14285714285714288), (1382, 0.14285714285714288), (1492, 0.14285714285714288), (1506, 0.14285714285714288), (1509, 0.14285714285714288), (1562, 0.14285714285714288), (1584, 0.14285714285714288), (1765, 0.14285714285714288), (1830, 0.14285714285714288), (1850, 0.14285714285714288), (2239, 0.14285714285714288), (2423, 0.14285714285714288), (2627, 0.14285714285714288), (2777, 0.14285714285714288), (2856, 0.14285714285714288), (2986, 0.14285714285714288), (3026, 0.14285714285714288), (3161, 0.14285714285714288), (3619, 0.14285714285714288), (3747, 0.14285714285714288), (4090, 0.14285714285714288), (4111, 0.14285714285714288), (4403, 0.14285714285714288), (4719, 0.14285714285714288), (5075, 0.14285714285714288), (5117, 0.14285714285714288), (5182, 0.14285714285714288), (5243, 0.14285714285714288), (5539, 0.14285714285714288), (5597, 0.14285714285714288), (5601, 0.14285714285714288), (5632, 0.14285714285714288), (5718, 0.14285714285714288), (5863, 0.14285714285714288), (108, 0.13801311186847084), (126, 0.13801311186847084), (281, 0.13801311186847084), (309, 0.13801311186847084), (318, 0.13801311186847084), (327, 0.13801311186847084), (396, 0.13801311186847084), (479, 0.13801311186847084), (536, 0.13801311186847084), (621, 0.13801311186847084), (721, 0.13801311186847084), (738, 0.13801311186847084), (747, 0.13801311186847084), (1043, 0.13801311186847084), (1223, 0.13801311186847084), (1252, 0.13801311186847084), (1278, 0.13801311186847084), (1516, 0.13801311186847084), (1644, 0.13801311186847084), (1668, 0.13801311186847084), (1821, 0.13801311186847084), (2007, 0.13801311186847084), (2040, 0.13801311186847084), (2168, 0.13801311186847084), (2213, 0.13801311186847084), (3199, 0.13801311186847084), (3570, 0.13801311186847084), (3921, 0.13801311186847084), (4116, 0.13801311186847084), (4180, 0.13801311186847084), (4439, 0.13801311186847084), (4888, 0.13801311186847084), (5201, 0.13801311186847084), (5546, 0.13801311186847084), (5557, 0.13801311186847084), (5571, 0.13801311186847084), (5596, 0.13801311186847084), (5698, 0.13801311186847084), (5704, 0.13801311186847084), (47, 0.1336306209562122), (100, 0.1336306209562122), (331, 0.1336306209562122), (677, 0.1336306209562122), (854, 0.1336306209562122), (922, 0.1336306209562122), (1226, 0.1336306209562122), (1667, 0.1336306209562122), (1795, 0.1336306209562122), (3130, 0.1336306209562122), (3879, 0.1336306209562122), (4483, 0.1336306209562122), (4826, 0.1336306209562122), (5040, 0.1336306209562122), (5080, 0.1336306209562122), (2877, 0.12964074471043288), (4042, 0.12964074471043288), (4640, 0.12964074471043288), (4662, 0.12964074471043288), (5476, 0.12964074471043288), (2870, 0.12598815766974242), (5453, 0.12598815766974242), (3496, 0.11952286093343936), (5402, 0.11952286093343936), (5392, 0.10811249552346708), (5263, 0.10101525445522107), (2095, 0.0944911182523068), (4275, 0.0944911182523068), (4499, 0.0944911182523068), (4938, 0.0944911182523068), (133, 0.0890870806374748), (187, 0.0890870806374748), (400, 0.0890870806374748), (640, 0.0890870806374748), (1023, 0.0890870806374748), (1117, 0.0890870806374748), (1142, 0.0890870806374748), (1166, 0.0890870806374748), (1201, 0.0890870806374748), (1568, 0.0890870806374748), (1579, 0.0890870806374748), (1586, 0.0890870806374748), (1812, 0.0890870806374748), (1852, 0.0890870806374748), (1871, 0.0890870806374748), (1913, 0.0890870806374748), (1915, 0.0890870806374748), (1962, 0.0890870806374748), (2019, 0.0890870806374748), (2286, 0.0890870806374748), (2363, 0.0890870806374748), (2438, 0.0890870806374748), (2584, 0.0890870806374748), (2626, 0.0890870806374748), (2807, 0.0890870806374748), (2824, 0.0890870806374748), (3208, 0.0890870806374748), (3307, 0.0890870806374748), (3312, 0.0890870806374748), (3537, 0.0890870806374748), (3558, 0.0890870806374748), (3572, 0.0890870806374748), (3685, 0.0890870806374748), (3737, 0.0890870806374748), (3761, 0.0890870806374748), (3768, 0.0890870806374748), (3882, 0.0890870806374748), (3938, 0.0890870806374748), (3945, 0.0890870806374748), (3999, 0.0890870806374748), (4004, 0.0890870806374748), (4016, 0.0890870806374748), (4047, 0.0890870806374748), (4067, 0.0890870806374748), (4151, 0.0890870806374748), (4182, 0.0890870806374748), (4196, 0.0890870806374748), (4218, 0.0890870806374748), (4244, 0.0890870806374748), (4318, 0.0890870806374748), (4444, 0.0890870806374748), (4484, 0.0890870806374748), (4518, 0.0890870806374748), (4574, 0.0890870806374748), (4611, 0.0890870806374748), (4647, 0.0890870806374748), (4667, 0.0890870806374748), (4676, 0.0890870806374748), (4706, 0.0890870806374748), (4734, 0.0890870806374748), (4766, 0.0890870806374748), (4992, 0.0890870806374748), (5116, 0.0890870806374748), (5135, 0.0890870806374748), (5185, 0.0890870806374748), (5200, 0.0890870806374748), (5240, 0.0890870806374748), (5316, 0.0890870806374748), (5370, 0.0890870806374748), (5427, 0.0890870806374748), (5433, 0.0890870806374748), (5486, 0.0890870806374748), (5518, 0.0890870806374748), (5580, 0.0890870806374748), (5581, 0.0890870806374748), (5588, 0.0890870806374748), (5758, 0.0890870806374748), (5762, 0.0890870806374748), (103, 0.08451542547285167), (204, 0.08451542547285167), (319, 0.08451542547285167), (335, 0.08451542547285167), (437, 0.08451542547285167), (444, 0.08451542547285167), (465, 0.08451542547285167), (549, 0.08451542547285167), (557, 0.08451542547285167), (567, 0.08451542547285167), (631, 0.08451542547285167), (642, 0.08451542547285167), (688, 0.08451542547285167), (715, 0.08451542547285167), (727, 0.08451542547285167), (789, 0.08451542547285167), (805, 0.08451542547285167), (807, 0.08451542547285167), (837, 0.08451542547285167), (846, 0.08451542547285167), (945, 0.08451542547285167), (961, 0.08451542547285167), (970, 0.08451542547285167), (996, 0.08451542547285167), (1002, 0.08451542547285167), (1022, 0.08451542547285167), (1030, 0.08451542547285167), (1037, 0.08451542547285167), (1051, 0.08451542547285167), (1080, 0.08451542547285167), (1106, 0.08451542547285167), (1128, 0.08451542547285167), (1143, 0.08451542547285167), (1153, 0.08451542547285167), (1165, 0.08451542547285167), (1182, 0.08451542547285167), (1199, 0.08451542547285167), (1202, 0.08451542547285167), (1205, 0.08451542547285167), (1285, 0.08451542547285167), (1291, 0.08451542547285167), (1297, 0.08451542547285167), (1341, 0.08451542547285167), (1388, 0.08451542547285167), (1389, 0.08451542547285167), (1419, 0.08451542547285167), (1422, 0.08451542547285167), (1453, 0.08451542547285167), (1466, 0.08451542547285167), (1467, 0.08451542547285167), (1482, 0.08451542547285167), (1522, 0.08451542547285167), (1523, 0.08451542547285167), (1524, 0.08451542547285167), (1543, 0.08451542547285167), (1605, 0.08451542547285167), (1621, 0.08451542547285167), (1634, 0.08451542547285167), (1675, 0.08451542547285167), (1676, 0.08451542547285167), (1682, 0.08451542547285167), (1686, 0.08451542547285167), (1692, 0.08451542547285167), (1699, 0.08451542547285167), (1763, 0.08451542547285167), (1780, 0.08451542547285167), (1781, 0.08451542547285167), (1789, 0.08451542547285167), (1811, 0.08451542547285167), (1831, 0.08451542547285167), (1901, 0.08451542547285167), (1928, 0.08451542547285167), (1934, 0.08451542547285167), (1963, 0.08451542547285167), (1978, 0.08451542547285167), (1986, 0.08451542547285167), (2010, 0.08451542547285167), (2031, 0.08451542547285167), (2036, 0.08451542547285167), (2067, 0.08451542547285167), (2084, 0.08451542547285167), (2166, 0.08451542547285167), (2191, 0.08451542547285167), (2209, 0.08451542547285167), (2256, 0.08451542547285167), (2268, 0.08451542547285167), (2290, 0.08451542547285167), (2306, 0.08451542547285167), (2320, 0.08451542547285167), (2344, 0.08451542547285167), (2346, 0.08451542547285167), (2370, 0.08451542547285167), (2381, 0.08451542547285167), (2387, 0.08451542547285167), (2430, 0.08451542547285167), (2452, 0.08451542547285167), (2460, 0.08451542547285167), (2477, 0.08451542547285167), (2510, 0.08451542547285167), (2511, 0.08451542547285167), (2514, 0.08451542547285167), (2526, 0.08451542547285167), (2553, 0.08451542547285167), (2583, 0.08451542547285167), (2603, 0.08451542547285167), (2674, 0.08451542547285167), (2687, 0.08451542547285167), (2740, 0.08451542547285167), (2814, 0.08451542547285167), (2868, 0.08451542547285167), (2897, 0.08451542547285167), (2898, 0.08451542547285167), (2909, 0.08451542547285167), (2913, 0.08451542547285167), (2930, 0.08451542547285167), (2946, 0.08451542547285167), (2948, 0.08451542547285167), (3000, 0.08451542547285167), (3014, 0.08451542547285167), (3016, 0.08451542547285167), (3035, 0.08451542547285167), (3055, 0.08451542547285167), (3086, 0.08451542547285167), (3091, 0.08451542547285167), (3123, 0.08451542547285167), (3141, 0.08451542547285167), (3160, 0.08451542547285167), (3164, 0.08451542547285167), (3181, 0.08451542547285167), (3266, 0.08451542547285167), (3270, 0.08451542547285167), (3276, 0.08451542547285167), (3281, 0.08451542547285167), (3310, 0.08451542547285167), (3337, 0.08451542547285167), (3439, 0.08451542547285167), (3497, 0.08451542547285167), (3521, 0.08451542547285167), (3533, 0.08451542547285167), (3560, 0.08451542547285167), (3574, 0.08451542547285167), (3576, 0.08451542547285167), (3584, 0.08451542547285167), (3588, 0.08451542547285167), (3591, 0.08451542547285167), (3602, 0.08451542547285167), (3614, 0.08451542547285167), (3651, 0.08451542547285167), (3653, 0.08451542547285167), (3667, 0.08451542547285167), (3687, 0.08451542547285167), (3743, 0.08451542547285167), (3752, 0.08451542547285167), (3767, 0.08451542547285167), (3782, 0.08451542547285167), (3785, 0.08451542547285167), (3789, 0.08451542547285167), (3822, 0.08451542547285167), (3825, 0.08451542547285167), (3828, 0.08451542547285167), (3848, 0.08451542547285167), (3892, 0.08451542547285167), (3923, 0.08451542547285167), (3924, 0.08451542547285167), (3926, 0.08451542547285167), (3950, 0.08451542547285167), (3961, 0.08451542547285167), (3973, 0.08451542547285167), (3975, 0.08451542547285167), (3994, 0.08451542547285167), (4013, 0.08451542547285167), (4035, 0.08451542547285167), (4038, 0.08451542547285167), (4153, 0.08451542547285167), (4155, 0.08451542547285167), (4162, 0.08451542547285167), (4181, 0.08451542547285167), (4202, 0.08451542547285167), (4208, 0.08451542547285167), (4210, 0.08451542547285167), (4227, 0.08451542547285167), (4234, 0.08451542547285167), (4242, 0.08451542547285167), (4243, 0.08451542547285167), (4297, 0.08451542547285167), (4300, 0.08451542547285167), (4301, 0.08451542547285167), (4321, 0.08451542547285167), (4360, 0.08451542547285167), (4377, 0.08451542547285167), (4404, 0.08451542547285167), (4416, 0.08451542547285167), (4441, 0.08451542547285167), (4463, 0.08451542547285167), (4476, 0.08451542547285167), (4488, 0.08451542547285167), (4490, 0.08451542547285167), (4494, 0.08451542547285167), (4507, 0.08451542547285167), (4508, 0.08451542547285167), (4577, 0.08451542547285167), (4588, 0.08451542547285167), (4596, 0.08451542547285167), (4746, 0.08451542547285167), (4803, 0.08451542547285167), (4842, 0.08451542547285167), (4962, 0.08451542547285167), (5043, 0.08451542547285167), (5051, 0.08451542547285167), (5092, 0.08451542547285167), (5107, 0.08451542547285167), (5109, 0.08451542547285167), (5141, 0.08451542547285167), (5166, 0.08451542547285167), (5174, 0.08451542547285167), (5196, 0.08451542547285167), (5202, 0.08451542547285167), (5257, 0.08451542547285167), (5269, 0.08451542547285167), (5271, 0.08451542547285167), (5275, 0.08451542547285167), (5283, 0.08451542547285167), (5298, 0.08451542547285167), (5318, 0.08451542547285167), (5325, 0.08451542547285167), (5348, 0.08451542547285167), (5366, 0.08451542547285167), (5386, 0.08451542547285167), (5413, 0.08451542547285167), (5434, 0.08451542547285167), (5441, 0.08451542547285167), (5466, 0.08451542547285167), (5478, 0.08451542547285167), (5504, 0.08451542547285167), (5508, 0.08451542547285167), (5521, 0.08451542547285167), (5531, 0.08451542547285167), (5533, 0.08451542547285167), (5582, 0.08451542547285167), (5583, 0.08451542547285167), (5608, 0.08451542547285167), (5617, 0.08451542547285167), (5637, 0.08451542547285167), (5644, 0.08451542547285167), (5670, 0.08451542547285167), (5731, 0.08451542547285167), (5743, 0.08451542547285167), (5750, 0.08451542547285167), (5755, 0.08451542547285167), (5798, 0.08451542547285167), (5816, 0.08451542547285167), (3, 0.08058229640253803), (65, 0.08058229640253803), (129, 0.08058229640253803), (142, 0.08058229640253803), (150, 0.08058229640253803), (165, 0.08058229640253803), (179, 0.08058229640253803), (192, 0.08058229640253803), (210, 0.08058229640253803), (211, 0.08058229640253803), (221, 0.08058229640253803), (257, 0.08058229640253803), (264, 0.08058229640253803), (266, 0.08058229640253803), (277, 0.08058229640253803), (287, 0.08058229640253803), (292, 0.08058229640253803), (303, 0.08058229640253803), (328, 0.08058229640253803), (345, 0.08058229640253803), (357, 0.08058229640253803), (359, 0.08058229640253803), (367, 0.08058229640253803), (368, 0.08058229640253803), (381, 0.08058229640253803), (382, 0.08058229640253803), (403, 0.08058229640253803), (419, 0.08058229640253803), (441, 0.08058229640253803), (443, 0.08058229640253803), (452, 0.08058229640253803), (473, 0.08058229640253803), (490, 0.08058229640253803), (495, 0.08058229640253803), (507, 0.08058229640253803), (518, 0.08058229640253803), (528, 0.08058229640253803), (529, 0.08058229640253803), (530, 0.08058229640253803), (538, 0.08058229640253803), (546, 0.08058229640253803), (599, 0.08058229640253803), (606, 0.08058229640253803), (608, 0.08058229640253803), (613, 0.08058229640253803), (615, 0.08058229640253803), (623, 0.08058229640253803), (633, 0.08058229640253803), (638, 0.08058229640253803), (652, 0.08058229640253803), (662, 0.08058229640253803), (668, 0.08058229640253803), (673, 0.08058229640253803), (681, 0.08058229640253803), (685, 0.08058229640253803), (686, 0.08058229640253803), (700, 0.08058229640253803), (716, 0.08058229640253803), (724, 0.08058229640253803), (742, 0.08058229640253803), (770, 0.08058229640253803), (771, 0.08058229640253803), (801, 0.08058229640253803), (808, 0.08058229640253803), (814, 0.08058229640253803), (848, 0.08058229640253803), (851, 0.08058229640253803), (860, 0.08058229640253803), (873, 0.08058229640253803), (884, 0.08058229640253803), (892, 0.08058229640253803), (901, 0.08058229640253803), (909, 0.08058229640253803), (931, 0.08058229640253803), (933, 0.08058229640253803), (935, 0.08058229640253803), (948, 0.08058229640253803), (949, 0.08058229640253803), (963, 0.08058229640253803), (987, 0.08058229640253803), (992, 0.08058229640253803), (1021, 0.08058229640253803), (1029, 0.08058229640253803), (1052, 0.08058229640253803), (1079, 0.08058229640253803), (1085, 0.08058229640253803), (1088, 0.08058229640253803), (1090, 0.08058229640253803), (1097, 0.08058229640253803), (1098, 0.08058229640253803), (1099, 0.08058229640253803), (1104, 0.08058229640253803), (1135, 0.08058229640253803), (1140, 0.08058229640253803), (1151, 0.08058229640253803), (1162, 0.08058229640253803), (1172, 0.08058229640253803), (1185, 0.08058229640253803), (1191, 0.08058229640253803), (1198, 0.08058229640253803), (1215, 0.08058229640253803), (1229, 0.08058229640253803), (1238, 0.08058229640253803), (1272, 0.08058229640253803), (1290, 0.08058229640253803), (1321, 0.08058229640253803), (1339, 0.08058229640253803), (1344, 0.08058229640253803), (1345, 0.08058229640253803), (1371, 0.08058229640253803), (1397, 0.08058229640253803), (1405, 0.08058229640253803), (1406, 0.08058229640253803), (1408, 0.08058229640253803), (1423, 0.08058229640253803), (1424, 0.08058229640253803), (1471, 0.08058229640253803), (1477, 0.08058229640253803), (1479, 0.08058229640253803), (1484, 0.08058229640253803), (1486, 0.08058229640253803), (1488, 0.08058229640253803), (1511, 0.08058229640253803), (1545, 0.08058229640253803), (1552, 0.08058229640253803), (1553, 0.08058229640253803), (1554, 0.08058229640253803), (1567, 0.08058229640253803), (1570, 0.08058229640253803), (1585, 0.08058229640253803), (1603, 0.08058229640253803), (1620, 0.08058229640253803), (1648, 0.08058229640253803), (1674, 0.08058229640253803), (1683, 0.08058229640253803), (1689, 0.08058229640253803), (1690, 0.08058229640253803), (1693, 0.08058229640253803), (1698, 0.08058229640253803), (1700, 0.08058229640253803), (1703, 0.08058229640253803), (1705, 0.08058229640253803), (1706, 0.08058229640253803), (1708, 0.08058229640253803), (1709, 0.08058229640253803), (1711, 0.08058229640253803), (1714, 0.08058229640253803), (1731, 0.08058229640253803), (1732, 0.08058229640253803), (1751, 0.08058229640253803), (1764, 0.08058229640253803), (1774, 0.08058229640253803), (1797, 0.08058229640253803), (1822, 0.08058229640253803), (1841, 0.08058229640253803), (1855, 0.08058229640253803), (1859, 0.08058229640253803), (1865, 0.08058229640253803), (1866, 0.08058229640253803), (1888, 0.08058229640253803), (1898, 0.08058229640253803), (1899, 0.08058229640253803), (1932, 0.08058229640253803), (1933, 0.08058229640253803), (1944, 0.08058229640253803), (1983, 0.08058229640253803), (1985, 0.08058229640253803), (2004, 0.08058229640253803), (2024, 0.08058229640253803), (2047, 0.08058229640253803), (2068, 0.08058229640253803), (2070, 0.08058229640253803), (2089, 0.08058229640253803), (2094, 0.08058229640253803), (2119, 0.08058229640253803), (2139, 0.08058229640253803), (2142, 0.08058229640253803), (2153, 0.08058229640253803), (2156, 0.08058229640253803), (2165, 0.08058229640253803), (2172, 0.08058229640253803), (2179, 0.08058229640253803), (2184, 0.08058229640253803), (2186, 0.08058229640253803), (2212, 0.08058229640253803), (2222, 0.08058229640253803), (2258, 0.08058229640253803), (2276, 0.08058229640253803), (2279, 0.08058229640253803), (2281, 0.08058229640253803), (2284, 0.08058229640253803), (2291, 0.08058229640253803), (2292, 0.08058229640253803), (2341, 0.08058229640253803), (2383, 0.08058229640253803), (2388, 0.08058229640253803), (2393, 0.08058229640253803), (2420, 0.08058229640253803), (2445, 0.08058229640253803), (2453, 0.08058229640253803), (2488, 0.08058229640253803), (2522, 0.08058229640253803), (2527, 0.08058229640253803), (2528, 0.08058229640253803), (2530, 0.08058229640253803), (2532, 0.08058229640253803), (2556, 0.08058229640253803), (2560, 0.08058229640253803), (2561, 0.08058229640253803), (2565, 0.08058229640253803), (2579, 0.08058229640253803), (2590, 0.08058229640253803), (2591, 0.08058229640253803), (2609, 0.08058229640253803), (2623, 0.08058229640253803), (2628, 0.08058229640253803), (2629, 0.08058229640253803), (2635, 0.08058229640253803), (2641, 0.08058229640253803), (2645, 0.08058229640253803), (2665, 0.08058229640253803), (2673, 0.08058229640253803), (2679, 0.08058229640253803), (2684, 0.08058229640253803), (2700, 0.08058229640253803), (2713, 0.08058229640253803), (2724, 0.08058229640253803), (2732, 0.08058229640253803), (2784, 0.08058229640253803), (2793, 0.08058229640253803), (2796, 0.08058229640253803), (2800, 0.08058229640253803), (2822, 0.08058229640253803), (2833, 0.08058229640253803), (2841, 0.08058229640253803), (2871, 0.08058229640253803), (2879, 0.08058229640253803), (2881, 0.08058229640253803), (2893, 0.08058229640253803), (2894, 0.08058229640253803), (2905, 0.08058229640253803), (2908, 0.08058229640253803), (2915, 0.08058229640253803), (2934, 0.08058229640253803), (2942, 0.08058229640253803), (2945, 0.08058229640253803), (2959, 0.08058229640253803), (2969, 0.08058229640253803), (3008, 0.08058229640253803), (3025, 0.08058229640253803), (3043, 0.08058229640253803), (3052, 0.08058229640253803), (3070, 0.08058229640253803), (3075, 0.08058229640253803), (3078, 0.08058229640253803), (3081, 0.08058229640253803), (3092, 0.08058229640253803), (3100, 0.08058229640253803), (3108, 0.08058229640253803), (3136, 0.08058229640253803), (3171, 0.08058229640253803), (3191, 0.08058229640253803), (3207, 0.08058229640253803), (3210, 0.08058229640253803), (3231, 0.08058229640253803), (3236, 0.08058229640253803), (3244, 0.08058229640253803), (3250, 0.08058229640253803), (3261, 0.08058229640253803), (3283, 0.08058229640253803), (3284, 0.08058229640253803), (3288, 0.08058229640253803), (3298, 0.08058229640253803), (3311, 0.08058229640253803), (3328, 0.08058229640253803), (3352, 0.08058229640253803), (3357, 0.08058229640253803), (3358, 0.08058229640253803), (3380, 0.08058229640253803), (3381, 0.08058229640253803), (3384, 0.08058229640253803), (3401, 0.08058229640253803), (3411, 0.08058229640253803), (3476, 0.08058229640253803), (3482, 0.08058229640253803), (3517, 0.08058229640253803), (3536, 0.08058229640253803), (3551, 0.08058229640253803), (3566, 0.08058229640253803), (3567, 0.08058229640253803), (3583, 0.08058229640253803), (3598, 0.08058229640253803), (3606, 0.08058229640253803), (3607, 0.08058229640253803), (3608, 0.08058229640253803), (3621, 0.08058229640253803), (3631, 0.08058229640253803), (3633, 0.08058229640253803), (3658, 0.08058229640253803), (3664, 0.08058229640253803), (3711, 0.08058229640253803), (3724, 0.08058229640253803), (3742, 0.08058229640253803), (3765, 0.08058229640253803), (3783, 0.08058229640253803), (3806, 0.08058229640253803), (3812, 0.08058229640253803), (3835, 0.08058229640253803), (3850, 0.08058229640253803), (3853, 0.08058229640253803), (3878, 0.08058229640253803), (3899, 0.08058229640253803), (3927, 0.08058229640253803), (3936, 0.08058229640253803), (3937, 0.08058229640253803), (3942, 0.08058229640253803), (3957, 0.08058229640253803), (3974, 0.08058229640253803), (3998, 0.08058229640253803), (4007, 0.08058229640253803), (4017, 0.08058229640253803), (4020, 0.08058229640253803), (4029, 0.08058229640253803), (4032, 0.08058229640253803), (4072, 0.08058229640253803), (4075, 0.08058229640253803), (4077, 0.08058229640253803), (4102, 0.08058229640253803), (4103, 0.08058229640253803), (4117, 0.08058229640253803), (4122, 0.08058229640253803), (4144, 0.08058229640253803), (4184, 0.08058229640253803), (4229, 0.08058229640253803), (4245, 0.08058229640253803), (4258, 0.08058229640253803), (4267, 0.08058229640253803), (4287, 0.08058229640253803), (4288, 0.08058229640253803), (4295, 0.08058229640253803), (4304, 0.08058229640253803), (4313, 0.08058229640253803), (4322, 0.08058229640253803), (4350, 0.08058229640253803), (4352, 0.08058229640253803), (4362, 0.08058229640253803), (4376, 0.08058229640253803), (4388, 0.08058229640253803), (4397, 0.08058229640253803), (4398, 0.08058229640253803), (4409, 0.08058229640253803), (4412, 0.08058229640253803), (4433, 0.08058229640253803), (4440, 0.08058229640253803), (4449, 0.08058229640253803), (4457, 0.08058229640253803), (4511, 0.08058229640253803), (4512, 0.08058229640253803), (4553, 0.08058229640253803), (4590, 0.08058229640253803), (4616, 0.08058229640253803), (4633, 0.08058229640253803), (4650, 0.08058229640253803), (4691, 0.08058229640253803), (4707, 0.08058229640253803), (4724, 0.08058229640253803), (4747, 0.08058229640253803), (4748, 0.08058229640253803), (4765, 0.08058229640253803), (4770, 0.08058229640253803), (4777, 0.08058229640253803), (4834, 0.08058229640253803), (4861, 0.08058229640253803), (4871, 0.08058229640253803), (4878, 0.08058229640253803), (4895, 0.08058229640253803), (4903, 0.08058229640253803), (4911, 0.08058229640253803), (4922, 0.08058229640253803), (4966, 0.08058229640253803), (4974, 0.08058229640253803), (5002, 0.08058229640253803), (5004, 0.08058229640253803), (5046, 0.08058229640253803), (5083, 0.08058229640253803), (5103, 0.08058229640253803), (5106, 0.08058229640253803), (5111, 0.08058229640253803), (5112, 0.08058229640253803), (5221, 0.08058229640253803), (5245, 0.08058229640253803), (5265, 0.08058229640253803), (5289, 0.08058229640253803), (5315, 0.08058229640253803), (5317, 0.08058229640253803), (5336, 0.08058229640253803), (5352, 0.08058229640253803), (5365, 0.08058229640253803), (5368, 0.08058229640253803), (5369, 0.08058229640253803), (5376, 0.08058229640253803), (5401, 0.08058229640253803), (5415, 0.08058229640253803), (5431, 0.08058229640253803), (5440, 0.08058229640253803), (5443, 0.08058229640253803), (5455, 0.08058229640253803), (5459, 0.08058229640253803), (5460, 0.08058229640253803), (5471, 0.08058229640253803), (5472, 0.08058229640253803), (5509, 0.08058229640253803), (5520, 0.08058229640253803), (5530, 0.08058229640253803), (5545, 0.08058229640253803), (5563, 0.08058229640253803), (5565, 0.08058229640253803), (5593, 0.08058229640253803), (5621, 0.08058229640253803), (5638, 0.08058229640253803), (5655, 0.08058229640253803), (5665, 0.08058229640253803), (5693, 0.08058229640253803), (5711, 0.08058229640253803), (5732, 0.08058229640253803), (5747, 0.08058229640253803), (5756, 0.08058229640253803), (5774, 0.08058229640253803), (5790, 0.08058229640253803), (5806, 0.08058229640253803), (5812, 0.08058229640253803), (5832, 0.08058229640253803), (5849, 0.08058229640253803), (51, 0.07715167498104597), (53, 0.07715167498104597), (57, 0.07715167498104597), (58, 0.07715167498104597), (98, 0.07715167498104597), (106, 0.07715167498104597), (121, 0.07715167498104597), (123, 0.07715167498104597), (125, 0.07715167498104597), (143, 0.07715167498104597), (161, 0.07715167498104597), (164, 0.07715167498104597), (171, 0.07715167498104597), (177, 0.07715167498104597), (197, 0.07715167498104597), (229, 0.07715167498104597), (256, 0.07715167498104597), (290, 0.07715167498104597), (291, 0.07715167498104597), (304, 0.07715167498104597), (320, 0.07715167498104597), (329, 0.07715167498104597), (350, 0.07715167498104597), (363, 0.07715167498104597), (366, 0.07715167498104597), (373, 0.07715167498104597), (401, 0.07715167498104597), (405, 0.07715167498104597), (431, 0.07715167498104597), (436, 0.07715167498104597), (504, 0.07715167498104597), (515, 0.07715167498104597), (531, 0.07715167498104597), (556, 0.07715167498104597), (577, 0.07715167498104597), (580, 0.07715167498104597), (594, 0.07715167498104597), (602, 0.07715167498104597), (607, 0.07715167498104597), (609, 0.07715167498104597), (624, 0.07715167498104597), (629, 0.07715167498104597), (644, 0.07715167498104597), (648, 0.07715167498104597), (656, 0.07715167498104597), (669, 0.07715167498104597), (672, 0.07715167498104597), (683, 0.07715167498104597), (689, 0.07715167498104597), (690, 0.07715167498104597), (702, 0.07715167498104597), (717, 0.07715167498104597), (718, 0.07715167498104597), (722, 0.07715167498104597), (726, 0.07715167498104597), (735, 0.07715167498104597), (744, 0.07715167498104597), (753, 0.07715167498104597), (755, 0.07715167498104597), (784, 0.07715167498104597), (800, 0.07715167498104597), (804, 0.07715167498104597), (817, 0.07715167498104597), (819, 0.07715167498104597), (823, 0.07715167498104597), (824, 0.07715167498104597), (825, 0.07715167498104597), (829, 0.07715167498104597), (833, 0.07715167498104597), (838, 0.07715167498104597), (841, 0.07715167498104597), (853, 0.07715167498104597), (882, 0.07715167498104597), (891, 0.07715167498104597), (894, 0.07715167498104597), (898, 0.07715167498104597), (910, 0.07715167498104597), (915, 0.07715167498104597), (927, 0.07715167498104597), (932, 0.07715167498104597), (941, 0.07715167498104597), (946, 0.07715167498104597), (962, 0.07715167498104597), (976, 0.07715167498104597), (999, 0.07715167498104597), (1018, 0.07715167498104597), (1028, 0.07715167498104597), (1041, 0.07715167498104597), (1089, 0.07715167498104597), (1094, 0.07715167498104597), (1109, 0.07715167498104597), (1112, 0.07715167498104597), (1120, 0.07715167498104597), (1125, 0.07715167498104597), (1139, 0.07715167498104597), (1146, 0.07715167498104597), (1159, 0.07715167498104597), (1183, 0.07715167498104597), (1225, 0.07715167498104597), (1233, 0.07715167498104597), (1318, 0.07715167498104597), (1326, 0.07715167498104597), (1385, 0.07715167498104597), (1395, 0.07715167498104597), (1400, 0.07715167498104597), (1409, 0.07715167498104597), (1416, 0.07715167498104597), (1421, 0.07715167498104597), (1425, 0.07715167498104597), (1439, 0.07715167498104597), (1446, 0.07715167498104597), (1449, 0.07715167498104597), (1455, 0.07715167498104597), (1462, 0.07715167498104597), (1468, 0.07715167498104597), (1481, 0.07715167498104597), (1508, 0.07715167498104597), (1527, 0.07715167498104597), (1555, 0.07715167498104597), (1559, 0.07715167498104597), (1574, 0.07715167498104597), (1575, 0.07715167498104597), (1578, 0.07715167498104597), (1580, 0.07715167498104597), (1610, 0.07715167498104597), (1625, 0.07715167498104597), (1635, 0.07715167498104597), (1647, 0.07715167498104597), (1666, 0.07715167498104597), (1712, 0.07715167498104597), (1745, 0.07715167498104597), (1755, 0.07715167498104597), (1756, 0.07715167498104597), (1770, 0.07715167498104597), (1791, 0.07715167498104597), (1804, 0.07715167498104597), (1827, 0.07715167498104597), (1833, 0.07715167498104597), (1838, 0.07715167498104597), (1849, 0.07715167498104597), (1869, 0.07715167498104597), (1874, 0.07715167498104597), (1900, 0.07715167498104597), (1918, 0.07715167498104597), (1922, 0.07715167498104597), (1925, 0.07715167498104597), (1926, 0.07715167498104597), (1931, 0.07715167498104597), (1943, 0.07715167498104597), (1974, 0.07715167498104597), (1975, 0.07715167498104597), (1980, 0.07715167498104597), (1991, 0.07715167498104597), (2003, 0.07715167498104597), (2044, 0.07715167498104597), (2048, 0.07715167498104597), (2063, 0.07715167498104597), (2071, 0.07715167498104597), (2116, 0.07715167498104597), (2128, 0.07715167498104597), (2134, 0.07715167498104597), (2143, 0.07715167498104597), (2157, 0.07715167498104597), (2164, 0.07715167498104597), (2173, 0.07715167498104597), (2199, 0.07715167498104597), (2207, 0.07715167498104597), (2217, 0.07715167498104597), (2223, 0.07715167498104597), (2233, 0.07715167498104597), (2237, 0.07715167498104597), (2245, 0.07715167498104597), (2250, 0.07715167498104597), (2317, 0.07715167498104597), (2348, 0.07715167498104597), (2398, 0.07715167498104597), (2404, 0.07715167498104597), (2417, 0.07715167498104597), (2419, 0.07715167498104597), (2446, 0.07715167498104597), (2448, 0.07715167498104597), (2451, 0.07715167498104597), (2525, 0.07715167498104597), (2529, 0.07715167498104597), (2534, 0.07715167498104597), (2550, 0.07715167498104597), (2559, 0.07715167498104597), (2572, 0.07715167498104597), (2588, 0.07715167498104597), (2597, 0.07715167498104597), (2599, 0.07715167498104597), (2608, 0.07715167498104597), (2632, 0.07715167498104597), (2634, 0.07715167498104597), (2694, 0.07715167498104597), (2744, 0.07715167498104597), (2770, 0.07715167498104597), (2794, 0.07715167498104597), (2845, 0.07715167498104597), (2852, 0.07715167498104597), (2878, 0.07715167498104597), (2902, 0.07715167498104597), (2911, 0.07715167498104597), (2912, 0.07715167498104597), (2926, 0.07715167498104597), (2993, 0.07715167498104597), (3058, 0.07715167498104597), (3062, 0.07715167498104597), (3067, 0.07715167498104597), (3093, 0.07715167498104597), (3120, 0.07715167498104597), (3132, 0.07715167498104597), (3138, 0.07715167498104597), (3173, 0.07715167498104597), (3204, 0.07715167498104597), (3215, 0.07715167498104597), (3218, 0.07715167498104597), (3221, 0.07715167498104597), (3247, 0.07715167498104597), (3259, 0.07715167498104597), (3260, 0.07715167498104597), (3269, 0.07715167498104597), (3280, 0.07715167498104597), (3334, 0.07715167498104597), (3394, 0.07715167498104597), (3426, 0.07715167498104597), (3432, 0.07715167498104597), (3433, 0.07715167498104597), (3455, 0.07715167498104597), (3457, 0.07715167498104597), (3477, 0.07715167498104597), (3500, 0.07715167498104597), (3531, 0.07715167498104597), (3559, 0.07715167498104597), (3581, 0.07715167498104597), (3609, 0.07715167498104597), (3677, 0.07715167498104597), (3695, 0.07715167498104597), (3699, 0.07715167498104597), (3712, 0.07715167498104597), (3779, 0.07715167498104597), (3797, 0.07715167498104597), (3834, 0.07715167498104597), (3846, 0.07715167498104597), (3849, 0.07715167498104597), (3857, 0.07715167498104597), (3881, 0.07715167498104597), (3887, 0.07715167498104597), (3912, 0.07715167498104597), (3916, 0.07715167498104597), (3960, 0.07715167498104597), (3971, 0.07715167498104597), (4034, 0.07715167498104597), (4054, 0.07715167498104597), (4064, 0.07715167498104597), (4121, 0.07715167498104597), (4128, 0.07715167498104597), (4131, 0.07715167498104597), (4137, 0.07715167498104597), (4142, 0.07715167498104597), (4163, 0.07715167498104597), (4192, 0.07715167498104597), (4216, 0.07715167498104597), (4269, 0.07715167498104597), (4303, 0.07715167498104597), (4310, 0.07715167498104597), (4325, 0.07715167498104597), (4331, 0.07715167498104597), (4383, 0.07715167498104597), (4386, 0.07715167498104597), (4392, 0.07715167498104597), (4446, 0.07715167498104597), (4460, 0.07715167498104597), (4514, 0.07715167498104597), (4554, 0.07715167498104597), (4581, 0.07715167498104597), (4641, 0.07715167498104597), (4646, 0.07715167498104597), (4678, 0.07715167498104597), (4716, 0.07715167498104597), (4733, 0.07715167498104597), (4762, 0.07715167498104597), (4807, 0.07715167498104597), (4939, 0.07715167498104597), (4943, 0.07715167498104597), (4954, 0.07715167498104597), (4972, 0.07715167498104597), (4988, 0.07715167498104597), (5055, 0.07715167498104597), (5062, 0.07715167498104597), (5087, 0.07715167498104597), (5124, 0.07715167498104597), (5129, 0.07715167498104597), (5136, 0.07715167498104597), (5160, 0.07715167498104597), (5254, 0.07715167498104597), (5313, 0.07715167498104597), (5330, 0.07715167498104597), (5334, 0.07715167498104597), (5346, 0.07715167498104597), (5390, 0.07715167498104597), (5393, 0.07715167498104597), (5404, 0.07715167498104597), (5405, 0.07715167498104597), (5482, 0.07715167498104597), (5485, 0.07715167498104597), (5501, 0.07715167498104597), (5503, 0.07715167498104597), (5507, 0.07715167498104597), (5525, 0.07715167498104597), (5528, 0.07715167498104597), (5535, 0.07715167498104597), (5552, 0.07715167498104597), (5575, 0.07715167498104597), (5610, 0.07715167498104597), (5618, 0.07715167498104597), (5624, 0.07715167498104597), (5627, 0.07715167498104597), (5636, 0.07715167498104597), (5652, 0.07715167498104597), (5672, 0.07715167498104597), (5674, 0.07715167498104597), (5684, 0.07715167498104597), (5722, 0.07715167498104597), (5726, 0.07715167498104597), (5733, 0.07715167498104597), (5745, 0.07715167498104597), (5771, 0.07715167498104597), (5788, 0.07715167498104597), (5810, 0.07715167498104597), (5828, 0.07715167498104597), (5831, 0.07715167498104597), (5835, 0.07715167498104597), (5855, 0.07715167498104597), (5862, 0.07715167498104597), (34, 0.07412493166611013), (61, 0.07412493166611013), (159, 0.07412493166611013), (163, 0.07412493166611013), (173, 0.07412493166611013), (190, 0.07412493166611013), (243, 0.07412493166611013), (269, 0.07412493166611013), (302, 0.07412493166611013), (321, 0.07412493166611013), (347, 0.07412493166611013), (370, 0.07412493166611013), (379, 0.07412493166611013), (388, 0.07412493166611013), (424, 0.07412493166611013), (426, 0.07412493166611013), (427, 0.07412493166611013), (430, 0.07412493166611013), (467, 0.07412493166611013), (505, 0.07412493166611013), (508, 0.07412493166611013), (525, 0.07412493166611013), (535, 0.07412493166611013), (553, 0.07412493166611013), (555, 0.07412493166611013), (561, 0.07412493166611013), (569, 0.07412493166611013), (575, 0.07412493166611013), (583, 0.07412493166611013), (588, 0.07412493166611013), (592, 0.07412493166611013), (637, 0.07412493166611013), (655, 0.07412493166611013), (679, 0.07412493166611013), (695, 0.07412493166611013), (720, 0.07412493166611013), (750, 0.07412493166611013), (764, 0.07412493166611013), (788, 0.07412493166611013), (832, 0.07412493166611013), (899, 0.07412493166611013), (906, 0.07412493166611013), (926, 0.07412493166611013), (934, 0.07412493166611013), (959, 0.07412493166611013), (973, 0.07412493166611013), (982, 0.07412493166611013), (1017, 0.07412493166611013), (1024, 0.07412493166611013), (1101, 0.07412493166611013), (1113, 0.07412493166611013), (1137, 0.07412493166611013), (1164, 0.07412493166611013), (1211, 0.07412493166611013), (1234, 0.07412493166611013), (1258, 0.07412493166611013), (1312, 0.07412493166611013), (1314, 0.07412493166611013), (1335, 0.07412493166611013), (1402, 0.07412493166611013), (1410, 0.07412493166611013), (1436, 0.07412493166611013), (1460, 0.07412493166611013), (1487, 0.07412493166611013), (1495, 0.07412493166611013), (1536, 0.07412493166611013), (1548, 0.07412493166611013), (1571, 0.07412493166611013), (1595, 0.07412493166611013), (1612, 0.07412493166611013), (1639, 0.07412493166611013), (1656, 0.07412493166611013), (1739, 0.07412493166611013), (1746, 0.07412493166611013), (1864, 0.07412493166611013), (1893, 0.07412493166611013), (1903, 0.07412493166611013), (1956, 0.07412493166611013), (1961, 0.07412493166611013), (1979, 0.07412493166611013), (1998, 0.07412493166611013), (2038, 0.07412493166611013), (2060, 0.07412493166611013), (2098, 0.07412493166611013), (2137, 0.07412493166611013), (2161, 0.07412493166611013), (2189, 0.07412493166611013), (2257, 0.07412493166611013), (2295, 0.07412493166611013), (2314, 0.07412493166611013), (2351, 0.07412493166611013), (2352, 0.07412493166611013), (2368, 0.07412493166611013), (2377, 0.07412493166611013), (2379, 0.07412493166611013), (2482, 0.07412493166611013), (2491, 0.07412493166611013), (2497, 0.07412493166611013), (2521, 0.07412493166611013), (2547, 0.07412493166611013), (2555, 0.07412493166611013), (2610, 0.07412493166611013), (2639, 0.07412493166611013), (2655, 0.07412493166611013), (2670, 0.07412493166611013), (2727, 0.07412493166611013), (2735, 0.07412493166611013), (2738, 0.07412493166611013), (2779, 0.07412493166611013), (2782, 0.07412493166611013), (2825, 0.07412493166611013), (2855, 0.07412493166611013), (2906, 0.07412493166611013), (3031, 0.07412493166611013), (3047, 0.07412493166611013), (3053, 0.07412493166611013), (3148, 0.07412493166611013), (3234, 0.07412493166611013), (3272, 0.07412493166611013), (3275, 0.07412493166611013), (3291, 0.07412493166611013), (3300, 0.07412493166611013), (3410, 0.07412493166611013), (3465, 0.07412493166611013), (3478, 0.07412493166611013), (3479, 0.07412493166611013), (3512, 0.07412493166611013), (3593, 0.07412493166611013), (3611, 0.07412493166611013), (3673, 0.07412493166611013), (3731, 0.07412493166611013), (3861, 0.07412493166611013), (3874, 0.07412493166611013), (3903, 0.07412493166611013), (4046, 0.07412493166611013), (4058, 0.07412493166611013), (4092, 0.07412493166611013), (4110, 0.07412493166611013), (4149, 0.07412493166611013), (4314, 0.07412493166611013), (4375, 0.07412493166611013), (4477, 0.07412493166611013), (4568, 0.07412493166611013), (4591, 0.07412493166611013), (4637, 0.07412493166611013), (4898, 0.07412493166611013), (4961, 0.07412493166611013), (5159, 0.07412493166611013), (5238, 0.07412493166611013), (5251, 0.07412493166611013), (5362, 0.07412493166611013), (5381, 0.07412493166611013), (5495, 0.07412493166611013), (5526, 0.07412493166611013), (5629, 0.07412493166611013), (5662, 0.07412493166611013), (5741, 0.07412493166611013), (5761, 0.07412493166611013), (5764, 0.07412493166611013), (5814, 0.07412493166611013), (5841, 0.07412493166611013), (5848, 0.07412493166611013), (5865, 0.07412493166611013), (5660, 0.07273929674533079), (134, 0.07142857142857144), (252, 0.07142857142857144), (338, 0.07142857142857144), (364, 0.07142857142857144), (393, 0.07142857142857144), (415, 0.07142857142857144), (421, 0.07142857142857144), (482, 0.07142857142857144), (499, 0.07142857142857144), (513, 0.07142857142857144), (740, 0.07142857142857144), (769, 0.07142857142857144), (791, 0.07142857142857144), (812, 0.07142857142857144), (883, 0.07142857142857144), (930, 0.07142857142857144), (952, 0.07142857142857144), (954, 0.07142857142857144), (1044, 0.07142857142857144), (1063, 0.07142857142857144), (1074, 0.07142857142857144), (1116, 0.07142857142857144), (1227, 0.07142857142857144), (1427, 0.07142857142857144), (1454, 0.07142857142857144), (1564, 0.07142857142857144), (1569, 0.07142857142857144), (1582, 0.07142857142857144), (1609, 0.07142857142857144), (1640, 0.07142857142857144), (1646, 0.07142857142857144), (1671, 0.07142857142857144), (1727, 0.07142857142857144), (1752, 0.07142857142857144), (1810, 0.07142857142857144), (1878, 0.07142857142857144), (2069, 0.07142857142857144), (2079, 0.07142857142857144), (2101, 0.07142857142857144), (2111, 0.07142857142857144), (2155, 0.07142857142857144), (2185, 0.07142857142857144), (2253, 0.07142857142857144), (2360, 0.07142857142857144), (2478, 0.07142857142857144), (2498, 0.07142857142857144), (2505, 0.07142857142857144), (2605, 0.07142857142857144), (2633, 0.07142857142857144), (2653, 0.07142857142857144), (2797, 0.07142857142857144), (2838, 0.07142857142857144), (2978, 0.07142857142857144), (3001, 0.07142857142857144), (3022, 0.07142857142857144), (3046, 0.07142857142857144), (3158, 0.07142857142857144), (3170, 0.07142857142857144), (3216, 0.07142857142857144), (3225, 0.07142857142857144), (3425, 0.07142857142857144), (3494, 0.07142857142857144), (3739, 0.07142857142857144), (3744, 0.07142857142857144), (3805, 0.07142857142857144), (4165, 0.07142857142857144), (4219, 0.07142857142857144), (4333, 0.07142857142857144), (4825, 0.07142857142857144), (5027, 0.07142857142857144), (5211, 0.07142857142857144), (5230, 0.07142857142857144), (5262, 0.07142857142857144), (5284, 0.07142857142857144), (5322, 0.07142857142857144), (5358, 0.07142857142857144), (5375, 0.07142857142857144), (5447, 0.07142857142857144), (5473, 0.07142857142857144), (5479, 0.07142857142857144), (5499, 0.07142857142857144), (5515, 0.07142857142857144), (5592, 0.07142857142857144), (5649, 0.07142857142857144), (541, 0.06900655593423542), (650, 0.06900655593423542), (793, 0.06900655593423542), (969, 0.06900655593423542), (1263, 0.06900655593423542), (1661, 0.06900655593423542), (1713, 0.06900655593423542), (1853, 0.06900655593423542), (1921, 0.06900655593423542), (2367, 0.06900655593423542), (2582, 0.06900655593423542), (2776, 0.06900655593423542), (2992, 0.06900655593423542), (3183, 0.06900655593423542), (3504, 0.06900655593423542), (3553, 0.06900655593423542), (3870, 0.06900655593423542), (4317, 0.06900655593423542), (5072, 0.06900655593423542), (5258, 0.06900655593423542), (5341, 0.06900655593423542), (5541, 0.06900655593423542), (5628, 0.06900655593423542), (5807, 0.06900655593423542), (231, 0.0668153104781061), (924, 0.0668153104781061), (1122, 0.0668153104781061), (2041, 0.0668153104781061), (2248, 0.0668153104781061), (4455, 0.0668153104781061), (5233, 0.0668153104781061), (5270, 0.0668153104781061), (953, 0.06482037235521644), (1284, 0.06482037235521644), (4948, 0.06482037235521644), (5795, 0.06482037235521644), (5819, 0.06482037235521644), (1006, 0.06299407883487121), (1927, 0.06299407883487121), (4001, 0.06131393394849658), (5383, 0.06131393394849658), (2668, 0.05976143046671968), (5643, 0.05976143046671968), (5691, 0.05698028822981897), (3473, 0.05572782125753529), (5777, 0.054554472558998104), (5493, 0.051434449987363975), (5595, 0.042796049251091296), (5809, 0.04075695729696112), (5710, 0.038575837490522985), (4, 0.0), (116, 0.0), (157, 0.0), (189, 0.0), (230, 0.0), (233, 0.0), (239, 0.0), (247, 0.0), (254, 0.0), (255, 0.0), (261, 0.0), (262, 0.0), (265, 0.0), (268, 0.0), (278, 0.0), (294, 0.0), (295, 0.0), (296, 0.0), (298, 0.0), (299, 0.0), (301, 0.0), (326, 0.0), (334, 0.0), (341, 0.0), (351, 0.0), (353, 0.0), (355, 0.0), (358, 0.0), (361, 0.0), (365, 0.0), (369, 0.0), (371, 0.0), (372, 0.0), (375, 0.0), (378, 0.0), (383, 0.0), (395, 0.0), (399, 0.0), (406, 0.0), (408, 0.0), (410, 0.0), (411, 0.0), (412, 0.0), (416, 0.0), (417, 0.0), (432, 0.0), (435, 0.0), (450, 0.0), (455, 0.0), (462, 0.0), (466, 0.0), (470, 0.0), (472, 0.0), (477, 0.0), (488, 0.0), (489, 0.0), (492, 0.0), (493, 0.0), (494, 0.0), (496, 0.0), (498, 0.0), (500, 0.0), (501, 0.0), (502, 0.0), (503, 0.0), (509, 0.0), (511, 0.0), (523, 0.0), (527, 0.0), (534, 0.0), (537, 0.0), (542, 0.0), (545, 0.0), (562, 0.0), (563, 0.0), (565, 0.0), (570, 0.0), (576, 0.0), (585, 0.0), (590, 0.0), (591, 0.0), (593, 0.0), (596, 0.0), (597, 0.0), (600, 0.0), (603, 0.0), (611, 0.0), (616, 0.0), (617, 0.0), (618, 0.0), (620, 0.0), (625, 0.0), (626, 0.0), (627, 0.0), (628, 0.0), (630, 0.0), (634, 0.0), (641, 0.0), (646, 0.0), (649, 0.0), (658, 0.0), (660, 0.0), (661, 0.0), (663, 0.0), (664, 0.0), (667, 0.0), (675, 0.0), (678, 0.0), (682, 0.0), (684, 0.0), (691, 0.0), (692, 0.0), (693, 0.0), (697, 0.0), (698, 0.0), (704, 0.0), (705, 0.0), (707, 0.0), (711, 0.0), (713, 0.0), (728, 0.0), (729, 0.0), (730, 0.0), (736, 0.0), (737, 0.0), (739, 0.0), (741, 0.0), (751, 0.0), (758, 0.0), (759, 0.0), (768, 0.0), (774, 0.0), (775, 0.0), (776, 0.0), (777, 0.0), (780, 0.0), (781, 0.0), (782, 0.0), (786, 0.0), (787, 0.0), (790, 0.0), (792, 0.0), (796, 0.0), (798, 0.0), (799, 0.0), (803, 0.0), (806, 0.0), (810, 0.0), (821, 0.0), (826, 0.0), (827, 0.0), (828, 0.0), (830, 0.0), (834, 0.0), (836, 0.0), (842, 0.0), (843, 0.0), (845, 0.0), (847, 0.0), (849, 0.0), (852, 0.0), (855, 0.0), (856, 0.0), (857, 0.0), (858, 0.0), (859, 0.0), (861, 0.0), (862, 0.0), (863, 0.0), (864, 0.0), (865, 0.0), (866, 0.0), (867, 0.0), (869, 0.0), (871, 0.0), (872, 0.0), (875, 0.0), (876, 0.0), (877, 0.0), (885, 0.0), (886, 0.0), (887, 0.0), (889, 0.0), (890, 0.0), (893, 0.0), (895, 0.0), (896, 0.0), (903, 0.0), (904, 0.0), (905, 0.0), (907, 0.0), (908, 0.0), (914, 0.0), (917, 0.0), (919, 0.0), (923, 0.0), (928, 0.0), (929, 0.0), (937, 0.0), (938, 0.0), (942, 0.0), (944, 0.0), (947, 0.0), (950, 0.0), (951, 0.0), (956, 0.0), (960, 0.0), (967, 0.0), (968, 0.0), (971, 0.0), (974, 0.0), (977, 0.0), (978, 0.0), (979, 0.0), (986, 0.0), (989, 0.0), (991, 0.0), (993, 0.0), (995, 0.0), (1000, 0.0), (1003, 0.0), (1004, 0.0), (1005, 0.0), (1007, 0.0), (1008, 0.0), (1011, 0.0), (1012, 0.0), (1013, 0.0), (1014, 0.0), (1019, 0.0), (1020, 0.0), (1026, 0.0), (1027, 0.0), (1031, 0.0), (1032, 0.0), (1033, 0.0), (1035, 0.0), (1038, 0.0), (1039, 0.0), (1042, 0.0), (1045, 0.0), (1046, 0.0), (1047, 0.0), (1055, 0.0), (1060, 0.0), (1066, 0.0), (1067, 0.0), (1070, 0.0), (1071, 0.0), (1072, 0.0), (1075, 0.0), (1077, 0.0), (1078, 0.0), (1083, 0.0), (1086, 0.0), (1092, 0.0), (1093, 0.0), (1095, 0.0), (1096, 0.0), (1100, 0.0), (1102, 0.0), (1103, 0.0), (1105, 0.0), (1107, 0.0), (1108, 0.0), (1110, 0.0), (1115, 0.0), (1119, 0.0), (1121, 0.0), (1129, 0.0), (1130, 0.0), (1133, 0.0), (1136, 0.0), (1138, 0.0), (1141, 0.0), (1145, 0.0), (1147, 0.0), (1148, 0.0), (1149, 0.0), (1150, 0.0), (1152, 0.0), (1155, 0.0), (1156, 0.0), (1157, 0.0), (1158, 0.0), (1160, 0.0), (1161, 0.0), (1163, 0.0), (1167, 0.0), (1169, 0.0), (1170, 0.0), (1174, 0.0), (1176, 0.0), (1181, 0.0), (1184, 0.0), (1186, 0.0), (1187, 0.0), (1188, 0.0), (1189, 0.0), (1190, 0.0), (1193, 0.0), (1194, 0.0), (1195, 0.0), (1197, 0.0), (1200, 0.0), (1203, 0.0), (1204, 0.0), (1206, 0.0), (1207, 0.0), (1208, 0.0), (1209, 0.0), (1212, 0.0), (1213, 0.0), (1216, 0.0), (1217, 0.0), (1220, 0.0), (1221, 0.0), (1222, 0.0), (1224, 0.0), (1228, 0.0), (1230, 0.0), (1231, 0.0), (1232, 0.0), (1235, 0.0), (1240, 0.0), (1241, 0.0), (1242, 0.0), (1243, 0.0), (1244, 0.0), (1245, 0.0), (1247, 0.0), (1248, 0.0), (1256, 0.0), (1260, 0.0), (1264, 0.0), (1267, 0.0), (1271, 0.0), (1275, 0.0), (1277, 0.0), (1279, 0.0), (1280, 0.0), (1281, 0.0), (1288, 0.0), (1289, 0.0), (1292, 0.0), (1293, 0.0), (1294, 0.0), (1295, 0.0), (1296, 0.0), (1300, 0.0), (1303, 0.0), (1305, 0.0), (1307, 0.0), (1308, 0.0), (1309, 0.0), (1310, 0.0), (1313, 0.0), (1315, 0.0), (1316, 0.0), (1317, 0.0), (1319, 0.0), (1324, 0.0), (1327, 0.0), (1328, 0.0), (1329, 0.0), (1331, 0.0), (1333, 0.0), (1334, 0.0), (1338, 0.0), (1340, 0.0), (1343, 0.0), (1347, 0.0), (1348, 0.0), (1349, 0.0), (1350, 0.0), (1351, 0.0), (1352, 0.0), (1353, 0.0), (1355, 0.0), (1359, 0.0), (1361, 0.0), (1362, 0.0), (1363, 0.0), (1364, 0.0), (1365, 0.0), (1366, 0.0), (1367, 0.0), (1369, 0.0), (1370, 0.0), (1372, 0.0), (1374, 0.0), (1377, 0.0), (1378, 0.0), (1379, 0.0), (1381, 0.0), (1383, 0.0), (1384, 0.0), (1386, 0.0), (1387, 0.0), (1391, 0.0), (1394, 0.0), (1396, 0.0), (1398, 0.0), (1401, 0.0), (1403, 0.0), (1411, 0.0), (1412, 0.0), (1415, 0.0), (1417, 0.0), (1418, 0.0), (1420, 0.0), (1429, 0.0), (1430, 0.0), (1431, 0.0), (1432, 0.0), (1434, 0.0), (1435, 0.0), (1437, 0.0), (1438, 0.0), (1440, 0.0), (1442, 0.0), (1443, 0.0), (1448, 0.0), (1450, 0.0), (1451, 0.0), (1452, 0.0), (1458, 0.0), (1459, 0.0), (1461, 0.0), (1463, 0.0), (1472, 0.0), (1473, 0.0), (1475, 0.0), (1476, 0.0), (1478, 0.0), (1485, 0.0), (1489, 0.0), (1490, 0.0), (1494, 0.0), (1496, 0.0), (1497, 0.0), (1499, 0.0), (1500, 0.0), (1501, 0.0), (1503, 0.0), (1504, 0.0), (1507, 0.0), (1512, 0.0), (1513, 0.0), (1514, 0.0), (1515, 0.0), (1518, 0.0), (1519, 0.0), (1520, 0.0), (1525, 0.0), (1526, 0.0), (1530, 0.0), (1531, 0.0), (1532, 0.0), (1533, 0.0), (1534, 0.0), (1535, 0.0), (1537, 0.0), (1538, 0.0), (1539, 0.0), (1540, 0.0), (1541, 0.0), (1544, 0.0), (1546, 0.0), (1547, 0.0), (1549, 0.0), (1550, 0.0), (1551, 0.0), (1556, 0.0), (1557, 0.0), (1560, 0.0), (1563, 0.0), (1565, 0.0), (1566, 0.0), (1572, 0.0), (1573, 0.0), (1576, 0.0), (1577, 0.0), (1581, 0.0), (1588, 0.0), (1589, 0.0), (1590, 0.0), (1591, 0.0), (1592, 0.0), (1594, 0.0), (1596, 0.0), (1597, 0.0), (1598, 0.0), (1599, 0.0), (1602, 0.0), (1604, 0.0), (1606, 0.0), (1607, 0.0), (1613, 0.0), (1614, 0.0), (1615, 0.0), (1616, 0.0), (1619, 0.0), (1622, 0.0), (1629, 0.0), (1630, 0.0), (1632, 0.0), (1633, 0.0), (1636, 0.0), (1638, 0.0), (1641, 0.0), (1643, 0.0), (1645, 0.0), (1649, 0.0), (1650, 0.0), (1651, 0.0), (1653, 0.0), (1655, 0.0), (1658, 0.0), (1660, 0.0), (1662, 0.0), (1663, 0.0), (1664, 0.0), (1665, 0.0), (1669, 0.0), (1672, 0.0), (1673, 0.0), (1677, 0.0), (1678, 0.0), (1679, 0.0), (1680, 0.0), (1684, 0.0), (1688, 0.0), (1691, 0.0), (1695, 0.0), (1696, 0.0), (1701, 0.0), (1702, 0.0), (1704, 0.0), (1710, 0.0), (1716, 0.0), (1717, 0.0), (1718, 0.0), (1720, 0.0), (1721, 0.0), (1724, 0.0), (1726, 0.0), (1728, 0.0), (1729, 0.0), (1730, 0.0), (1733, 0.0), (1736, 0.0), (1737, 0.0), (1740, 0.0), (1741, 0.0), (1742, 0.0), (1744, 0.0), (1747, 0.0), (1748, 0.0), (1749, 0.0), (1750, 0.0), (1753, 0.0), (1754, 0.0), (1758, 0.0), (1759, 0.0), (1761, 0.0), (1762, 0.0), (1767, 0.0), (1768, 0.0), (1772, 0.0), (1773, 0.0), (1775, 0.0), (1777, 0.0), (1779, 0.0), (1783, 0.0), (1784, 0.0), (1785, 0.0), (1786, 0.0), (1787, 0.0), (1788, 0.0), (1790, 0.0), (1792, 0.0), (1793, 0.0), (1794, 0.0), (1798, 0.0), (1802, 0.0), (1803, 0.0), (1805, 0.0), (1806, 0.0), (1807, 0.0), (1808, 0.0), (1809, 0.0), (1813, 0.0), (1815, 0.0), (1816, 0.0), (1818, 0.0), (1819, 0.0), (1820, 0.0), (1823, 0.0), (1825, 0.0), (1828, 0.0), (1832, 0.0), (1834, 0.0), (1835, 0.0), (1836, 0.0), (1839, 0.0), (1840, 0.0), (1842, 0.0), (1843, 0.0), (1844, 0.0), (1846, 0.0), (1847, 0.0), (1848, 0.0), (1851, 0.0), (1854, 0.0), (1856, 0.0), (1857, 0.0), (1858, 0.0), (1860, 0.0), (1861, 0.0), (1862, 0.0), (1863, 0.0), (1867, 0.0), (1868, 0.0), (1873, 0.0), (1875, 0.0), (1876, 0.0), (1877, 0.0), (1879, 0.0), (1880, 0.0), (1882, 0.0), (1883, 0.0), (1886, 0.0), (1887, 0.0), (1890, 0.0), (1891, 0.0), (1892, 0.0), (1894, 0.0), (1895, 0.0), (1896, 0.0), (1897, 0.0), (1904, 0.0), (1905, 0.0), (1908, 0.0), (1911, 0.0), (1912, 0.0), (1914, 0.0), (1916, 0.0), (1917, 0.0), (1919, 0.0), (1920, 0.0), (1923, 0.0), (1930, 0.0), (1935, 0.0), (1936, 0.0), (1938, 0.0), (1939, 0.0), (1940, 0.0), (1941, 0.0), (1942, 0.0), (1945, 0.0), (1948, 0.0), (1949, 0.0), (1950, 0.0), (1951, 0.0), (1952, 0.0), (1953, 0.0), (1955, 0.0), (1959, 0.0), (1964, 0.0), (1966, 0.0), (1968, 0.0), (1969, 0.0), (1971, 0.0), (1972, 0.0), (1973, 0.0), (1976, 0.0), (1977, 0.0), (1981, 0.0), (1982, 0.0), (1984, 0.0), (1988, 0.0), (1990, 0.0), (1992, 0.0), (1993, 0.0), (1994, 0.0), (1996, 0.0), (1997, 0.0), (1999, 0.0), (2000, 0.0), (2002, 0.0), (2005, 0.0), (2006, 0.0), (2008, 0.0), (2009, 0.0), (2011, 0.0), (2012, 0.0), (2014, 0.0), (2015, 0.0), (2016, 0.0), (2022, 0.0), (2023, 0.0), (2025, 0.0), (2026, 0.0), (2027, 0.0), (2029, 0.0), (2030, 0.0), (2032, 0.0), (2033, 0.0), (2034, 0.0), (2035, 0.0), (2037, 0.0), (2039, 0.0), (2043, 0.0), (2045, 0.0), (2046, 0.0), (2050, 0.0), (2051, 0.0), (2052, 0.0), (2053, 0.0), (2054, 0.0), (2055, 0.0), (2056, 0.0), (2057, 0.0), (2064, 0.0), (2065, 0.0), (2066, 0.0), (2072, 0.0), (2073, 0.0), (2074, 0.0), (2076, 0.0), (2077, 0.0), (2078, 0.0), (2080, 0.0), (2081, 0.0), (2082, 0.0), (2083, 0.0), (2085, 0.0), (2086, 0.0), (2087, 0.0), (2091, 0.0), (2092, 0.0), (2093, 0.0), (2099, 0.0), (2100, 0.0), (2103, 0.0), (2105, 0.0), (2106, 0.0), (2107, 0.0), (2108, 0.0), (2109, 0.0), (2110, 0.0), (2112, 0.0), (2113, 0.0), (2114, 0.0), (2115, 0.0), (2118, 0.0), (2120, 0.0), (2121, 0.0), (2122, 0.0), (2123, 0.0), (2124, 0.0), (2125, 0.0), (2126, 0.0), (2131, 0.0), (2133, 0.0), (2135, 0.0), (2138, 0.0), (2140, 0.0), (2145, 0.0), (2146, 0.0), (2147, 0.0), (2148, 0.0), (2149, 0.0), (2151, 0.0), (2152, 0.0), (2154, 0.0), (2158, 0.0), (2160, 0.0), (2162, 0.0), (2163, 0.0), (2167, 0.0), (2169, 0.0), (2170, 0.0), (2171, 0.0), (2174, 0.0), (2176, 0.0), (2178, 0.0), (2180, 0.0), (2181, 0.0), (2187, 0.0), (2188, 0.0), (2190, 0.0), (2192, 0.0), (2194, 0.0), (2195, 0.0), (2200, 0.0), (2201, 0.0), (2202, 0.0), (2204, 0.0), (2205, 0.0), (2210, 0.0), (2211, 0.0), (2214, 0.0), (2216, 0.0), (2219, 0.0), (2220, 0.0), (2221, 0.0), (2224, 0.0), (2226, 0.0), (2227, 0.0), (2228, 0.0), (2229, 0.0), (2230, 0.0), (2232, 0.0), (2235, 0.0), (2238, 0.0), (2243, 0.0), (2244, 0.0), (2246, 0.0), (2247, 0.0), (2249, 0.0), (2251, 0.0), (2252, 0.0), (2255, 0.0), (2259, 0.0), (2260, 0.0), (2261, 0.0), (2263, 0.0), (2264, 0.0), (2266, 0.0), (2267, 0.0), (2269, 0.0), (2271, 0.0), (2272, 0.0), (2274, 0.0), (2278, 0.0), (2280, 0.0), (2282, 0.0), (2283, 0.0), (2285, 0.0), (2287, 0.0), (2288, 0.0), (2289, 0.0), (2293, 0.0), (2296, 0.0), (2297, 0.0), (2299, 0.0), (2300, 0.0), (2301, 0.0), (2302, 0.0), (2303, 0.0), (2304, 0.0), (2305, 0.0), (2308, 0.0), (2309, 0.0), (2310, 0.0), (2311, 0.0), (2312, 0.0), (2313, 0.0), (2315, 0.0), (2316, 0.0), (2318, 0.0), (2319, 0.0), (2321, 0.0), (2322, 0.0), (2323, 0.0), (2325, 0.0), (2326, 0.0), (2328, 0.0), (2330, 0.0), (2331, 0.0), (2332, 0.0), (2333, 0.0), (2334, 0.0), (2335, 0.0), (2336, 0.0), (2337, 0.0), (2339, 0.0), (2340, 0.0), (2342, 0.0), (2343, 0.0), (2345, 0.0), (2349, 0.0), (2350, 0.0), (2354, 0.0), (2356, 0.0), (2357, 0.0), (2358, 0.0), (2359, 0.0), (2362, 0.0), (2364, 0.0), (2365, 0.0), (2366, 0.0), (2372, 0.0), (2373, 0.0), (2374, 0.0), (2376, 0.0), (2378, 0.0), (2380, 0.0), (2382, 0.0), (2385, 0.0), (2386, 0.0), (2389, 0.0), (2392, 0.0), (2394, 0.0), (2395, 0.0), (2397, 0.0), (2399, 0.0), (2400, 0.0), (2401, 0.0), (2402, 0.0), (2403, 0.0), (2405, 0.0), (2406, 0.0), (2407, 0.0), (2408, 0.0), (2410, 0.0), (2412, 0.0), (2413, 0.0), (2414, 0.0), (2416, 0.0), (2418, 0.0), (2422, 0.0), (2426, 0.0), (2427, 0.0), (2428, 0.0), (2429, 0.0), (2431, 0.0), (2432, 0.0), (2433, 0.0), (2434, 0.0), (2435, 0.0), (2436, 0.0), (2437, 0.0), (2439, 0.0), (2440, 0.0), (2441, 0.0), (2443, 0.0), (2444, 0.0), (2449, 0.0), (2450, 0.0), (2454, 0.0), (2455, 0.0), (2457, 0.0), (2458, 0.0), (2459, 0.0), (2461, 0.0), (2462, 0.0), (2464, 0.0), (2465, 0.0), (2467, 0.0), (2469, 0.0), (2471, 0.0), (2472, 0.0), (2473, 0.0), (2475, 0.0), (2479, 0.0), (2480, 0.0), (2481, 0.0), (2483, 0.0), (2484, 0.0), (2485, 0.0), (2486, 0.0), (2487, 0.0), (2489, 0.0), (2490, 0.0), (2494, 0.0), (2495, 0.0), (2496, 0.0), (2499, 0.0), (2500, 0.0), (2501, 0.0), (2502, 0.0), (2503, 0.0), (2504, 0.0), (2506, 0.0), (2507, 0.0), (2508, 0.0), (2509, 0.0), (2512, 0.0), (2513, 0.0), (2515, 0.0), (2516, 0.0), (2518, 0.0), (2519, 0.0), (2520, 0.0), (2524, 0.0), (2531, 0.0), (2535, 0.0), (2536, 0.0), (2539, 0.0), (2540, 0.0), (2541, 0.0), (2542, 0.0), (2544, 0.0), (2545, 0.0), (2546, 0.0), (2548, 0.0), (2551, 0.0), (2554, 0.0), (2557, 0.0), (2558, 0.0), (2562, 0.0), (2564, 0.0), (2566, 0.0), (2567, 0.0), (2569, 0.0), (2570, 0.0), (2571, 0.0), (2573, 0.0), (2575, 0.0), (2576, 0.0), (2577, 0.0), (2578, 0.0), (2580, 0.0), (2581, 0.0), (2585, 0.0), (2586, 0.0), (2592, 0.0), (2593, 0.0), (2595, 0.0), (2596, 0.0), (2598, 0.0), (2600, 0.0), (2601, 0.0), (2602, 0.0), (2604, 0.0), (2606, 0.0), (2607, 0.0), (2611, 0.0), (2613, 0.0), (2614, 0.0), (2616, 0.0), (2617, 0.0), (2619, 0.0), (2622, 0.0), (2624, 0.0), (2625, 0.0), (2630, 0.0), (2631, 0.0), (2638, 0.0), (2640, 0.0), (2642, 0.0), (2643, 0.0), (2644, 0.0), (2646, 0.0), (2647, 0.0), (2648, 0.0), (2649, 0.0), (2650, 0.0), (2651, 0.0), (2654, 0.0), (2656, 0.0), (2657, 0.0), (2659, 0.0), (2661, 0.0), (2662, 0.0), (2663, 0.0), (2664, 0.0), (2666, 0.0), (2667, 0.0), (2669, 0.0), (2672, 0.0), (2676, 0.0), (2677, 0.0), (2678, 0.0), (2680, 0.0), (2681, 0.0), (2682, 0.0), (2685, 0.0), (2686, 0.0), (2688, 0.0), (2689, 0.0), (2690, 0.0), (2691, 0.0), (2692, 0.0), (2693, 0.0), (2695, 0.0), (2697, 0.0), (2698, 0.0), (2699, 0.0), (2701, 0.0), (2702, 0.0), (2703, 0.0), (2704, 0.0), (2705, 0.0), (2707, 0.0), (2708, 0.0), (2710, 0.0), (2711, 0.0), (2712, 0.0), (2714, 0.0), (2715, 0.0), (2717, 0.0), (2718, 0.0), (2719, 0.0), (2720, 0.0), (2722, 0.0), (2723, 0.0), (2725, 0.0), (2726, 0.0), (2728, 0.0), (2729, 0.0), (2730, 0.0), (2731, 0.0), (2733, 0.0), (2736, 0.0), (2739, 0.0), (2741, 0.0), (2742, 0.0), (2745, 0.0), (2747, 0.0), (2748, 0.0), (2750, 0.0), (2751, 0.0), (2752, 0.0), (2753, 0.0), (2754, 0.0), (2756, 0.0), (2757, 0.0), (2759, 0.0), (2760, 0.0), (2761, 0.0), (2762, 0.0), (2763, 0.0), (2764, 0.0), (2765, 0.0), (2766, 0.0), (2767, 0.0), (2768, 0.0), (2769, 0.0), (2771, 0.0), (2772, 0.0), (2774, 0.0), (2775, 0.0), (2778, 0.0), (2780, 0.0), (2781, 0.0), (2785, 0.0), (2786, 0.0), (2788, 0.0), (2789, 0.0), (2790, 0.0), (2791, 0.0), (2792, 0.0), (2795, 0.0), (2798, 0.0), (2799, 0.0), (2801, 0.0), (2802, 0.0), (2804, 0.0), (2805, 0.0), (2809, 0.0), (2811, 0.0), (2813, 0.0), (2816, 0.0), (2818, 0.0), (2819, 0.0), (2820, 0.0), (2823, 0.0), (2827, 0.0), (2828, 0.0), (2829, 0.0), (2830, 0.0), (2831, 0.0), (2835, 0.0), (2836, 0.0), (2837, 0.0), (2839, 0.0), (2840, 0.0), (2843, 0.0), (2844, 0.0), (2846, 0.0), (2847, 0.0), (2848, 0.0), (2849, 0.0), (2850, 0.0), (2851, 0.0), (2853, 0.0), (2854, 0.0), (2857, 0.0), (2859, 0.0), (2860, 0.0), (2862, 0.0), (2863, 0.0), (2864, 0.0), (2865, 0.0), (2866, 0.0), (2867, 0.0), (2869, 0.0), (2873, 0.0), (2874, 0.0), (2875, 0.0), (2876, 0.0), (2880, 0.0), (2882, 0.0), (2883, 0.0), (2884, 0.0), (2885, 0.0), (2886, 0.0), (2887, 0.0), (2888, 0.0), (2890, 0.0), (2895, 0.0), (2896, 0.0), (2899, 0.0), (2900, 0.0), (2901, 0.0), (2904, 0.0), (2907, 0.0), (2910, 0.0), (2914, 0.0), (2916, 0.0), (2917, 0.0), (2918, 0.0), (2919, 0.0), (2920, 0.0), (2921, 0.0), (2922, 0.0), (2923, 0.0), (2925, 0.0), (2927, 0.0), (2928, 0.0), (2929, 0.0), (2931, 0.0), (2932, 0.0), (2933, 0.0), (2935, 0.0), (2936, 0.0), (2937, 0.0), (2938, 0.0), (2939, 0.0), (2940, 0.0), (2941, 0.0), (2943, 0.0), (2944, 0.0), (2947, 0.0), (2949, 0.0), (2950, 0.0), (2951, 0.0), (2952, 0.0), (2953, 0.0), (2955, 0.0), (2958, 0.0), (2960, 0.0), (2961, 0.0), (2962, 0.0), (2963, 0.0), (2964, 0.0), (2965, 0.0), (2966, 0.0), (2967, 0.0), (2968, 0.0), (2970, 0.0), (2972, 0.0), (2973, 0.0), (2974, 0.0), (2975, 0.0), (2976, 0.0), (2977, 0.0), (2979, 0.0), (2980, 0.0), (2981, 0.0), (2982, 0.0), (2984, 0.0), (2985, 0.0), (2989, 0.0), (2990, 0.0), (2991, 0.0), (2994, 0.0), (2996, 0.0), (2998, 0.0), (3002, 0.0), (3003, 0.0), (3004, 0.0), (3005, 0.0), (3009, 0.0), (3010, 0.0), (3012, 0.0), (3013, 0.0), (3015, 0.0), (3018, 0.0), (3019, 0.0), (3020, 0.0), (3021, 0.0), (3024, 0.0), (3027, 0.0), (3028, 0.0), (3029, 0.0), (3030, 0.0), (3032, 0.0), (3033, 0.0), (3034, 0.0), (3036, 0.0), (3037, 0.0), (3038, 0.0), (3039, 0.0), (3040, 0.0), (3041, 0.0), (3042, 0.0), (3044, 0.0), (3045, 0.0), (3049, 0.0), (3050, 0.0), (3051, 0.0), (3054, 0.0), (3057, 0.0), (3060, 0.0), (3061, 0.0), (3063, 0.0), (3064, 0.0), (3065, 0.0), (3068, 0.0), (3069, 0.0), (3071, 0.0), (3072, 0.0), (3073, 0.0), (3074, 0.0), (3076, 0.0), (3077, 0.0), (3079, 0.0), (3080, 0.0), (3082, 0.0), (3084, 0.0), (3085, 0.0), (3087, 0.0), (3088, 0.0), (3089, 0.0), (3090, 0.0), (3094, 0.0), (3095, 0.0), (3096, 0.0), (3097, 0.0), (3098, 0.0), (3099, 0.0), (3101, 0.0), (3102, 0.0), (3103, 0.0), (3104, 0.0), (3105, 0.0), (3106, 0.0), (3107, 0.0), (3109, 0.0), (3110, 0.0), (3111, 0.0), (3112, 0.0), (3113, 0.0), (3114, 0.0), (3115, 0.0), (3116, 0.0), (3117, 0.0), (3118, 0.0), (3119, 0.0), (3121, 0.0), (3122, 0.0), (3124, 0.0), (3125, 0.0), (3126, 0.0), (3128, 0.0), (3129, 0.0), (3131, 0.0), (3133, 0.0), (3134, 0.0), (3135, 0.0), (3139, 0.0), (3140, 0.0), (3143, 0.0), (3146, 0.0), (3150, 0.0), (3151, 0.0), (3153, 0.0), (3154, 0.0), (3157, 0.0), (3159, 0.0), (3163, 0.0), (3165, 0.0), (3166, 0.0), (3167, 0.0), (3168, 0.0), (3169, 0.0), (3172, 0.0), (3174, 0.0), (3175, 0.0), (3176, 0.0), (3177, 0.0), (3179, 0.0), (3180, 0.0), (3182, 0.0), (3184, 0.0), (3186, 0.0), (3187, 0.0), (3188, 0.0), (3189, 0.0), (3190, 0.0), (3192, 0.0), (3193, 0.0), (3194, 0.0), (3195, 0.0), (3196, 0.0), (3200, 0.0), (3201, 0.0), (3202, 0.0), (3206, 0.0), (3211, 0.0), (3212, 0.0), (3213, 0.0), (3214, 0.0), (3217, 0.0), (3219, 0.0), (3222, 0.0), (3223, 0.0), (3224, 0.0), (3226, 0.0), (3229, 0.0), (3232, 0.0), (3233, 0.0), (3235, 0.0), (3238, 0.0), (3239, 0.0), (3240, 0.0), (3241, 0.0), (3242, 0.0), (3245, 0.0), (3248, 0.0), (3252, 0.0), (3253, 0.0), (3254, 0.0), (3255, 0.0), (3256, 0.0), (3257, 0.0), (3258, 0.0), (3262, 0.0), (3263, 0.0), (3264, 0.0), (3265, 0.0), (3267, 0.0), (3268, 0.0), (3273, 0.0), (3274, 0.0), (3277, 0.0), (3278, 0.0), (3279, 0.0), (3285, 0.0), (3286, 0.0), (3287, 0.0), (3290, 0.0), (3292, 0.0), (3293, 0.0), (3294, 0.0), (3295, 0.0), (3296, 0.0), (3299, 0.0), (3302, 0.0), (3303, 0.0), (3304, 0.0), (3308, 0.0), (3309, 0.0), (3313, 0.0), (3314, 0.0), (3315, 0.0), (3316, 0.0), (3317, 0.0), (3318, 0.0), (3319, 0.0), (3320, 0.0), (3321, 0.0), (3322, 0.0), (3323, 0.0), (3325, 0.0), (3326, 0.0), (3327, 0.0), (3329, 0.0), (3330, 0.0), (3332, 0.0), (3333, 0.0), (3339, 0.0), (3340, 0.0), (3341, 0.0), (3342, 0.0), (3343, 0.0), (3344, 0.0), (3346, 0.0), (3347, 0.0), (3348, 0.0), (3349, 0.0), (3350, 0.0), (3351, 0.0), (3353, 0.0), (3354, 0.0), (3359, 0.0), (3360, 0.0), (3362, 0.0), (3364, 0.0), (3365, 0.0), (3367, 0.0), (3368, 0.0), (3369, 0.0), (3370, 0.0), (3372, 0.0), (3373, 0.0), (3374, 0.0), (3375, 0.0), (3376, 0.0), (3378, 0.0), (3383, 0.0), (3385, 0.0), (3386, 0.0), (3387, 0.0), (3388, 0.0), (3389, 0.0), (3390, 0.0), (3391, 0.0), (3392, 0.0), (3393, 0.0), (3396, 0.0), (3397, 0.0), (3398, 0.0), (3399, 0.0), (3400, 0.0), (3402, 0.0), (3403, 0.0), (3404, 0.0), (3406, 0.0), (3407, 0.0), (3413, 0.0), (3415, 0.0), (3416, 0.0), (3417, 0.0), (3418, 0.0), (3419, 0.0), (3420, 0.0), (3421, 0.0), (3422, 0.0), (3423, 0.0), (3424, 0.0), (3427, 0.0), (3428, 0.0), (3429, 0.0), (3430, 0.0), (3431, 0.0), (3434, 0.0), (3435, 0.0), (3438, 0.0), (3440, 0.0), (3441, 0.0), (3442, 0.0), (3443, 0.0), (3444, 0.0), (3445, 0.0), (3447, 0.0), (3449, 0.0), (3450, 0.0), (3451, 0.0), (3452, 0.0), (3453, 0.0), (3454, 0.0), (3456, 0.0), (3458, 0.0), (3460, 0.0), (3461, 0.0), (3462, 0.0), (3463, 0.0), (3464, 0.0), (3466, 0.0), (3467, 0.0), (3468, 0.0), (3469, 0.0), (3471, 0.0), (3472, 0.0), (3474, 0.0), (3475, 0.0), (3480, 0.0), (3481, 0.0), (3483, 0.0), (3484, 0.0), (3485, 0.0), (3486, 0.0), (3487, 0.0), (3488, 0.0), (3489, 0.0), (3490, 0.0), (3491, 0.0), (3492, 0.0), (3493, 0.0), (3495, 0.0), (3498, 0.0), (3499, 0.0), (3501, 0.0), (3503, 0.0), (3505, 0.0), (3507, 0.0), (3508, 0.0), (3509, 0.0), (3510, 0.0), (3511, 0.0), (3513, 0.0), (3514, 0.0), (3515, 0.0), (3516, 0.0), (3518, 0.0), (3519, 0.0), (3520, 0.0), (3522, 0.0), (3524, 0.0), (3525, 0.0), (3526, 0.0), (3527, 0.0), (3528, 0.0), (3529, 0.0), (3530, 0.0), (3532, 0.0), (3534, 0.0), (3535, 0.0), (3538, 0.0), (3539, 0.0), (3540, 0.0), (3541, 0.0), (3542, 0.0), (3543, 0.0), (3544, 0.0), (3545, 0.0), (3546, 0.0), (3547, 0.0), (3549, 0.0), (3550, 0.0), (3552, 0.0), (3554, 0.0), (3555, 0.0), (3556, 0.0), (3557, 0.0), (3561, 0.0), (3562, 0.0), (3564, 0.0), (3565, 0.0), (3569, 0.0), (3571, 0.0), (3573, 0.0), (3577, 0.0), (3578, 0.0), (3579, 0.0), (3580, 0.0), (3582, 0.0), (3585, 0.0), (3587, 0.0), (3589, 0.0), (3590, 0.0), (3592, 0.0), (3594, 0.0), (3595, 0.0), (3596, 0.0), (3597, 0.0), (3599, 0.0), (3600, 0.0), (3601, 0.0), (3603, 0.0), (3604, 0.0), (3605, 0.0), (3610, 0.0), (3612, 0.0), (3613, 0.0), (3615, 0.0), (3616, 0.0), (3617, 0.0), (3620, 0.0), (3623, 0.0), (3624, 0.0), (3625, 0.0), (3626, 0.0), (3627, 0.0), (3629, 0.0), (3630, 0.0), (3632, 0.0), (3634, 0.0), (3636, 0.0), (3637, 0.0), (3638, 0.0), (3640, 0.0), (3641, 0.0), (3642, 0.0), (3643, 0.0), (3644, 0.0), (3646, 0.0), (3647, 0.0), (3648, 0.0), (3649, 0.0), (3650, 0.0), (3652, 0.0), (3654, 0.0), (3655, 0.0), (3656, 0.0), (3659, 0.0), (3660, 0.0), (3661, 0.0), (3662, 0.0), (3663, 0.0), (3665, 0.0), (3668, 0.0), (3669, 0.0), (3671, 0.0), (3672, 0.0), (3674, 0.0), (3675, 0.0), (3676, 0.0), (3678, 0.0), (3679, 0.0), (3680, 0.0), (3681, 0.0), (3684, 0.0), (3688, 0.0), (3689, 0.0), (3690, 0.0), (3691, 0.0), (3692, 0.0), (3693, 0.0), (3694, 0.0), (3696, 0.0), (3697, 0.0), (3698, 0.0), (3700, 0.0), (3701, 0.0), (3702, 0.0), (3703, 0.0), (3704, 0.0), (3705, 0.0), (3706, 0.0), (3707, 0.0), (3708, 0.0), (3709, 0.0), (3710, 0.0), (3713, 0.0), (3715, 0.0), (3716, 0.0), (3717, 0.0), (3718, 0.0), (3719, 0.0), (3720, 0.0), (3721, 0.0), (3722, 0.0), (3725, 0.0), (3726, 0.0), (3727, 0.0), (3728, 0.0), (3729, 0.0), (3730, 0.0), (3733, 0.0), (3734, 0.0), (3735, 0.0), (3736, 0.0), (3738, 0.0), (3740, 0.0), (3745, 0.0), (3746, 0.0), (3749, 0.0), (3750, 0.0), (3751, 0.0), (3753, 0.0), (3754, 0.0), (3755, 0.0), (3756, 0.0), (3757, 0.0), (3758, 0.0), (3760, 0.0), (3762, 0.0), (3763, 0.0), (3766, 0.0), (3769, 0.0), (3773, 0.0), (3774, 0.0), (3775, 0.0), (3777, 0.0), (3778, 0.0), (3780, 0.0), (3781, 0.0), (3784, 0.0), (3786, 0.0), (3787, 0.0), (3788, 0.0), (3790, 0.0), (3791, 0.0), (3792, 0.0), (3793, 0.0), (3794, 0.0), (3795, 0.0), (3796, 0.0), (3799, 0.0), (3801, 0.0), (3802, 0.0), (3803, 0.0), (3804, 0.0), (3807, 0.0), (3808, 0.0), (3809, 0.0), (3810, 0.0), (3811, 0.0), (3813, 0.0), (3814, 0.0), (3815, 0.0), (3816, 0.0), (3817, 0.0), (3819, 0.0), (3820, 0.0), (3821, 0.0), (3826, 0.0), (3827, 0.0), (3829, 0.0), (3830, 0.0), (3831, 0.0), (3832, 0.0), (3833, 0.0), (3836, 0.0), (3837, 0.0), (3838, 0.0), (3839, 0.0), (3841, 0.0), (3842, 0.0), (3843, 0.0), (3844, 0.0), (3845, 0.0), (3847, 0.0), (3851, 0.0), (3852, 0.0), (3854, 0.0), (3855, 0.0), (3856, 0.0), (3858, 0.0), (3859, 0.0), (3860, 0.0), (3862, 0.0), (3863, 0.0), (3864, 0.0), (3865, 0.0), (3866, 0.0), (3867, 0.0), (3868, 0.0), (3869, 0.0), (3872, 0.0), (3873, 0.0), (3875, 0.0), (3877, 0.0), (3880, 0.0), (3883, 0.0), (3885, 0.0), (3888, 0.0), (3889, 0.0), (3890, 0.0), (3891, 0.0), (3893, 0.0), (3894, 0.0), (3895, 0.0), (3896, 0.0), (3897, 0.0), (3898, 0.0), (3900, 0.0), (3901, 0.0), (3902, 0.0), (3904, 0.0), (3905, 0.0), (3906, 0.0), (3907, 0.0), (3908, 0.0), (3909, 0.0), (3910, 0.0), (3911, 0.0), (3913, 0.0), (3917, 0.0), (3918, 0.0), (3919, 0.0), (3922, 0.0), (3928, 0.0), (3930, 0.0), (3932, 0.0), (3935, 0.0), (3939, 0.0), (3940, 0.0), (3941, 0.0), (3943, 0.0), (3944, 0.0), (3946, 0.0), (3948, 0.0), (3949, 0.0), (3952, 0.0), (3953, 0.0), (3954, 0.0), (3955, 0.0), (3956, 0.0), (3958, 0.0), (3959, 0.0), (3962, 0.0), (3963, 0.0), (3964, 0.0), (3965, 0.0), (3966, 0.0), (3967, 0.0), (3968, 0.0), (3969, 0.0), (3970, 0.0), (3972, 0.0), (3976, 0.0), (3977, 0.0), (3978, 0.0), (3979, 0.0), (3981, 0.0), (3983, 0.0), (3984, 0.0), (3985, 0.0), (3986, 0.0), (3987, 0.0), (3988, 0.0), (3989, 0.0), (3990, 0.0), (3992, 0.0), (3993, 0.0), (3996, 0.0), (3997, 0.0), (4000, 0.0), (4002, 0.0), (4003, 0.0), (4005, 0.0), (4006, 0.0), (4010, 0.0), (4011, 0.0), (4012, 0.0), (4014, 0.0), (4015, 0.0), (4018, 0.0), (4021, 0.0), (4022, 0.0), (4023, 0.0), (4025, 0.0), (4026, 0.0), (4027, 0.0), (4028, 0.0), (4030, 0.0), (4033, 0.0), (4036, 0.0), (4037, 0.0), (4039, 0.0), (4041, 0.0), (4044, 0.0), (4045, 0.0), (4048, 0.0), (4049, 0.0), (4050, 0.0), (4053, 0.0), (4055, 0.0), (4056, 0.0), (4057, 0.0), (4059, 0.0), (4060, 0.0), (4061, 0.0), (4063, 0.0), (4065, 0.0), (4066, 0.0), (4068, 0.0), (4070, 0.0), (4071, 0.0), (4073, 0.0), (4076, 0.0), (4078, 0.0), (4079, 0.0), (4080, 0.0), (4082, 0.0), (4083, 0.0), (4085, 0.0), (4086, 0.0), (4087, 0.0), (4088, 0.0), (4089, 0.0), (4093, 0.0), (4094, 0.0), (4095, 0.0), (4096, 0.0), (4097, 0.0), (4098, 0.0), (4099, 0.0), (4100, 0.0), (4101, 0.0), (4104, 0.0), (4105, 0.0), (4106, 0.0), (4107, 0.0), (4108, 0.0), (4109, 0.0), (4115, 0.0), (4118, 0.0), (4119, 0.0), (4123, 0.0), (4124, 0.0), (4125, 0.0), (4126, 0.0), (4127, 0.0), (4129, 0.0), (4130, 0.0), (4132, 0.0), (4133, 0.0), (4134, 0.0), (4135, 0.0), (4136, 0.0), (4138, 0.0), (4139, 0.0), (4140, 0.0), (4141, 0.0), (4145, 0.0), (4146, 0.0), (4147, 0.0), (4148, 0.0), (4150, 0.0), (4152, 0.0), (4154, 0.0), (4156, 0.0), (4157, 0.0), (4158, 0.0), (4159, 0.0), (4160, 0.0), (4161, 0.0), (4166, 0.0), (4167, 0.0), (4168, 0.0), (4169, 0.0), (4171, 0.0), (4172, 0.0), (4174, 0.0), (4175, 0.0), (4177, 0.0), (4178, 0.0), (4179, 0.0), (4185, 0.0), (4186, 0.0), (4187, 0.0), (4188, 0.0), (4189, 0.0), (4190, 0.0), (4191, 0.0), (4193, 0.0), (4194, 0.0), (4195, 0.0), (4197, 0.0), (4198, 0.0), (4200, 0.0), (4201, 0.0), (4203, 0.0), (4206, 0.0), (4207, 0.0), (4209, 0.0), (4212, 0.0), (4213, 0.0), (4214, 0.0), (4215, 0.0), (4217, 0.0), (4220, 0.0), (4221, 0.0), (4222, 0.0), (4223, 0.0), (4224, 0.0), (4225, 0.0), (4226, 0.0), (4230, 0.0), (4231, 0.0), (4232, 0.0), (4233, 0.0), (4235, 0.0), (4236, 0.0), (4237, 0.0), (4238, 0.0), (4240, 0.0), (4241, 0.0), (4247, 0.0), (4248, 0.0), (4249, 0.0), (4250, 0.0), (4251, 0.0), (4252, 0.0), (4253, 0.0), (4254, 0.0), (4255, 0.0), (4256, 0.0), (4257, 0.0), (4259, 0.0), (4260, 0.0), (4261, 0.0), (4262, 0.0), (4263, 0.0), (4264, 0.0), (4265, 0.0), (4266, 0.0), (4268, 0.0), (4270, 0.0), (4271, 0.0), (4272, 0.0), (4273, 0.0), (4274, 0.0), (4276, 0.0), (4277, 0.0), (4278, 0.0), (4281, 0.0), (4282, 0.0), (4283, 0.0), (4284, 0.0), (4285, 0.0), (4286, 0.0), (4289, 0.0), (4290, 0.0), (4291, 0.0), (4293, 0.0), (4294, 0.0), (4296, 0.0), (4298, 0.0), (4299, 0.0), (4302, 0.0), (4305, 0.0), (4307, 0.0), (4308, 0.0), (4312, 0.0), (4315, 0.0), (4316, 0.0), (4319, 0.0), (4320, 0.0), (4323, 0.0), (4324, 0.0), (4326, 0.0), (4327, 0.0), (4328, 0.0), (4329, 0.0), (4330, 0.0), (4335, 0.0), (4336, 0.0), (4337, 0.0), (4338, 0.0), (4339, 0.0), (4340, 0.0), (4341, 0.0), (4343, 0.0), (4344, 0.0), (4345, 0.0), (4346, 0.0), (4347, 0.0), (4348, 0.0), (4349, 0.0), (4351, 0.0), (4353, 0.0), (4355, 0.0), (4356, 0.0), (4357, 0.0), (4358, 0.0), (4359, 0.0), (4361, 0.0), (4363, 0.0), (4364, 0.0), (4365, 0.0), (4366, 0.0), (4367, 0.0), (4369, 0.0), (4370, 0.0), (4372, 0.0), (4374, 0.0), (4378, 0.0), (4379, 0.0), (4380, 0.0), (4381, 0.0), (4382, 0.0), (4384, 0.0), (4385, 0.0), (4390, 0.0), (4391, 0.0), (4393, 0.0), (4395, 0.0), (4396, 0.0), (4399, 0.0), (4400, 0.0), (4401, 0.0), (4405, 0.0), (4406, 0.0), (4408, 0.0), (4410, 0.0), (4411, 0.0), (4413, 0.0), (4415, 0.0), (4417, 0.0), (4418, 0.0), (4419, 0.0), (4420, 0.0), (4421, 0.0), (4422, 0.0), (4423, 0.0), (4424, 0.0), (4425, 0.0), (4426, 0.0), (4427, 0.0), (4429, 0.0), (4430, 0.0), (4431, 0.0), (4432, 0.0), (4435, 0.0), (4436, 0.0), (4437, 0.0), (4438, 0.0), (4442, 0.0), (4443, 0.0), (4445, 0.0), (4448, 0.0), (4450, 0.0), (4451, 0.0), (4452, 0.0), (4453, 0.0), (4454, 0.0), (4456, 0.0), (4458, 0.0), (4459, 0.0), (4461, 0.0), (4462, 0.0), (4465, 0.0), (4466, 0.0), (4469, 0.0), (4472, 0.0), (4473, 0.0), (4474, 0.0), (4475, 0.0), (4478, 0.0), (4479, 0.0), (4480, 0.0), (4481, 0.0), (4482, 0.0), (4485, 0.0), (4486, 0.0), (4487, 0.0), (4489, 0.0), (4491, 0.0), (4493, 0.0), (4495, 0.0), (4496, 0.0), (4498, 0.0), (4500, 0.0), (4501, 0.0), (4502, 0.0), (4503, 0.0), (4504, 0.0), (4505, 0.0), (4506, 0.0), (4509, 0.0), (4510, 0.0), (4513, 0.0), (4515, 0.0), (4516, 0.0), (4517, 0.0), (4519, 0.0), (4521, 0.0), (4523, 0.0), (4524, 0.0), (4525, 0.0), (4526, 0.0), (4527, 0.0), (4528, 0.0), (4529, 0.0), (4530, 0.0), (4531, 0.0), (4532, 0.0), (4533, 0.0), (4534, 0.0), (4535, 0.0), (4536, 0.0), (4539, 0.0), (4540, 0.0), (4542, 0.0), (4543, 0.0), (4544, 0.0), (4545, 0.0), (4547, 0.0), (4548, 0.0), (4549, 0.0), (4550, 0.0), (4551, 0.0), (4552, 0.0), (4556, 0.0), (4557, 0.0), (4558, 0.0), (4560, 0.0), (4561, 0.0), (4562, 0.0), (4563, 0.0), (4564, 0.0), (4566, 0.0), (4567, 0.0), (4569, 0.0), (4570, 0.0), (4571, 0.0), (4572, 0.0), (4573, 0.0), (4576, 0.0), (4578, 0.0), (4579, 0.0), (4580, 0.0), (4582, 0.0), (4583, 0.0), (4584, 0.0), (4585, 0.0), (4586, 0.0), (4587, 0.0), (4589, 0.0), (4592, 0.0), (4594, 0.0), (4595, 0.0), (4597, 0.0), (4598, 0.0), (4599, 0.0), (4600, 0.0), (4601, 0.0), (4602, 0.0), (4603, 0.0), (4604, 0.0), (4605, 0.0), (4606, 0.0), (4607, 0.0), (4608, 0.0), (4609, 0.0), (4610, 0.0), (4613, 0.0), (4614, 0.0), (4615, 0.0), (4618, 0.0), (4619, 0.0), (4621, 0.0), (4622, 0.0), (4623, 0.0), (4624, 0.0), (4625, 0.0), (4626, 0.0), (4627, 0.0), (4628, 0.0), (4629, 0.0), (4630, 0.0), (4631, 0.0), (4632, 0.0), (4634, 0.0), (4635, 0.0), (4636, 0.0), (4638, 0.0), (4639, 0.0), (4642, 0.0), (4645, 0.0), (4648, 0.0), (4649, 0.0), (4651, 0.0), (4652, 0.0), (4653, 0.0), (4654, 0.0), (4655, 0.0), (4656, 0.0), (4657, 0.0), (4658, 0.0), (4659, 0.0), (4661, 0.0), (4664, 0.0), (4665, 0.0), (4666, 0.0), (4668, 0.0), (4669, 0.0), (4670, 0.0), (4671, 0.0), (4672, 0.0), (4673, 0.0), (4674, 0.0), (4675, 0.0), (4677, 0.0), (4679, 0.0), (4680, 0.0), (4681, 0.0), (4683, 0.0), (4686, 0.0), (4687, 0.0), (4688, 0.0), (4689, 0.0), (4690, 0.0), (4692, 0.0), (4694, 0.0), (4695, 0.0), (4696, 0.0), (4697, 0.0), (4698, 0.0), (4699, 0.0), (4700, 0.0), (4701, 0.0), (4702, 0.0), (4703, 0.0), (4704, 0.0), (4705, 0.0), (4708, 0.0), (4710, 0.0), (4711, 0.0), (4712, 0.0), (4713, 0.0), (4714, 0.0), (4715, 0.0), (4717, 0.0), (4718, 0.0), (4720, 0.0), (4721, 0.0), (4722, 0.0), (4723, 0.0), (4726, 0.0), (4728, 0.0), (4729, 0.0), (4730, 0.0), (4731, 0.0), (4732, 0.0), (4735, 0.0), (4736, 0.0), (4737, 0.0), (4739, 0.0), (4740, 0.0), (4742, 0.0), (4743, 0.0), (4744, 0.0), (4745, 0.0), (4749, 0.0), (4750, 0.0), (4751, 0.0), (4752, 0.0), (4755, 0.0), (4756, 0.0), (4757, 0.0), (4761, 0.0), (4763, 0.0), (4764, 0.0), (4767, 0.0), (4768, 0.0), (4769, 0.0), (4771, 0.0), (4772, 0.0), (4774, 0.0), (4775, 0.0), (4776, 0.0), (4778, 0.0), (4780, 0.0), (4781, 0.0), (4783, 0.0), (4785, 0.0), (4786, 0.0), (4787, 0.0), (4788, 0.0), (4789, 0.0), (4790, 0.0), (4792, 0.0), (4793, 0.0), (4794, 0.0), (4795, 0.0), (4796, 0.0), (4797, 0.0), (4798, 0.0), (4799, 0.0), (4801, 0.0), (4802, 0.0), (4804, 0.0), (4805, 0.0), (4808, 0.0), (4810, 0.0), (4811, 0.0), (4812, 0.0), (4813, 0.0), (4815, 0.0), (4816, 0.0), (4817, 0.0), (4818, 0.0), (4819, 0.0), (4820, 0.0), (4822, 0.0), (4823, 0.0), (4824, 0.0), (4827, 0.0), (4828, 0.0), (4829, 0.0), (4830, 0.0), (4831, 0.0), (4833, 0.0), (4835, 0.0), (4836, 0.0), (4837, 0.0), (4838, 0.0), (4839, 0.0), (4841, 0.0), (4843, 0.0), (4845, 0.0), (4846, 0.0), (4847, 0.0), (4848, 0.0), (4849, 0.0), (4850, 0.0), (4851, 0.0), (4852, 0.0), (4853, 0.0), (4854, 0.0), (4856, 0.0), (4858, 0.0), (4859, 0.0), (4860, 0.0), (4862, 0.0), (4864, 0.0), (4865, 0.0), (4866, 0.0), (4867, 0.0), (4868, 0.0), (4869, 0.0), (4870, 0.0), (4872, 0.0), (4874, 0.0), (4875, 0.0), (4877, 0.0), (4879, 0.0), (4880, 0.0), (4881, 0.0), (4882, 0.0), (4883, 0.0), (4884, 0.0), (4885, 0.0), (4886, 0.0), (4887, 0.0), (4889, 0.0), (4890, 0.0), (4891, 0.0), (4892, 0.0), (4893, 0.0), (4894, 0.0), (4897, 0.0), (4899, 0.0), (4900, 0.0), (4901, 0.0), (4902, 0.0), (4904, 0.0), (4905, 0.0), (4912, 0.0), (4914, 0.0), (4918, 0.0), (4919, 0.0), (4920, 0.0), (4921, 0.0), (4923, 0.0), (4924, 0.0), (4926, 0.0), (4928, 0.0), (4929, 0.0), (4931, 0.0), (4932, 0.0), (4934, 0.0), (4935, 0.0), (4936, 0.0), (4940, 0.0), (4941, 0.0), (4942, 0.0), (4945, 0.0), (4947, 0.0), (4950, 0.0), (4952, 0.0), (4955, 0.0), (4956, 0.0), (4957, 0.0), (4958, 0.0), (4959, 0.0), (4960, 0.0), (4963, 0.0), (4967, 0.0), (4969, 0.0), (4970, 0.0), (4971, 0.0), (4975, 0.0), (4976, 0.0), (4978, 0.0), (4979, 0.0), (4981, 0.0), (4982, 0.0), (4986, 0.0), (4987, 0.0), (4989, 0.0), (4991, 0.0), (4993, 0.0), (4994, 0.0), (4995, 0.0), (4996, 0.0), (4997, 0.0), (4998, 0.0), (4999, 0.0), (5000, 0.0), (5001, 0.0), (5005, 0.0), (5007, 0.0), (5008, 0.0), (5010, 0.0), (5011, 0.0), (5012, 0.0), (5013, 0.0), (5014, 0.0), (5015, 0.0), (5016, 0.0), (5017, 0.0), (5018, 0.0), (5019, 0.0), (5020, 0.0), (5021, 0.0), (5022, 0.0), (5023, 0.0), (5025, 0.0), (5026, 0.0), (5028, 0.0), (5029, 0.0), (5030, 0.0), (5031, 0.0), (5032, 0.0), (5033, 0.0), (5034, 0.0), (5035, 0.0), (5036, 0.0), (5037, 0.0), (5038, 0.0), (5039, 0.0), (5041, 0.0), (5042, 0.0), (5044, 0.0), (5047, 0.0), (5049, 0.0), (5050, 0.0), (5054, 0.0), (5056, 0.0), (5057, 0.0), (5058, 0.0), (5059, 0.0), (5060, 0.0), (5061, 0.0), (5063, 0.0), (5064, 0.0), (5065, 0.0), (5066, 0.0), (5067, 0.0), (5068, 0.0), (5069, 0.0), (5070, 0.0), (5071, 0.0), (5073, 0.0), (5074, 0.0), (5076, 0.0), (5077, 0.0), (5078, 0.0), (5079, 0.0), (5081, 0.0), (5082, 0.0), (5084, 0.0), (5085, 0.0), (5086, 0.0), (5089, 0.0), (5090, 0.0), (5091, 0.0), (5093, 0.0), (5094, 0.0), (5096, 0.0), (5097, 0.0), (5098, 0.0), (5099, 0.0), (5100, 0.0), (5102, 0.0), (5104, 0.0), (5108, 0.0), (5113, 0.0), (5114, 0.0), (5118, 0.0), (5119, 0.0), (5120, 0.0), (5122, 0.0), (5123, 0.0), (5125, 0.0), (5126, 0.0), (5127, 0.0), (5128, 0.0), (5130, 0.0), (5132, 0.0), (5133, 0.0), (5137, 0.0), (5138, 0.0), (5139, 0.0), (5140, 0.0), (5143, 0.0), (5144, 0.0), (5145, 0.0), (5146, 0.0), (5147, 0.0), (5148, 0.0), (5151, 0.0), (5152, 0.0), (5153, 0.0), (5154, 0.0), (5155, 0.0), (5156, 0.0), (5158, 0.0), (5161, 0.0), (5162, 0.0), (5163, 0.0), (5164, 0.0), (5165, 0.0), (5167, 0.0), (5169, 0.0), (5171, 0.0), (5172, 0.0), (5173, 0.0), (5175, 0.0), (5176, 0.0), (5179, 0.0), (5180, 0.0), (5181, 0.0), (5183, 0.0), (5186, 0.0), (5187, 0.0), (5188, 0.0), (5189, 0.0), (5190, 0.0), (5191, 0.0), (5192, 0.0), (5193, 0.0), (5194, 0.0), (5195, 0.0), (5197, 0.0), (5198, 0.0), (5199, 0.0), (5203, 0.0), (5204, 0.0), (5205, 0.0), (5206, 0.0), (5207, 0.0), (5208, 0.0), (5209, 0.0), (5214, 0.0), (5216, 0.0), (5217, 0.0), (5218, 0.0), (5220, 0.0), (5222, 0.0), (5223, 0.0), (5224, 0.0), (5225, 0.0), (5228, 0.0), (5229, 0.0), (5231, 0.0), (5234, 0.0), (5235, 0.0), (5236, 0.0), (5237, 0.0), (5239, 0.0), (5242, 0.0), (5247, 0.0), (5248, 0.0), (5249, 0.0), (5250, 0.0), (5253, 0.0), (5255, 0.0), (5259, 0.0), (5261, 0.0), (5264, 0.0), (5266, 0.0), (5267, 0.0), (5274, 0.0), (5277, 0.0), (5278, 0.0), (5279, 0.0), (5281, 0.0), (5282, 0.0), (5285, 0.0), (5286, 0.0), (5287, 0.0), (5288, 0.0), (5290, 0.0), (5291, 0.0), (5292, 0.0), (5293, 0.0), (5294, 0.0), (5295, 0.0), (5297, 0.0), (5299, 0.0), (5300, 0.0), (5301, 0.0), (5302, 0.0), (5303, 0.0), (5305, 0.0), (5306, 0.0), (5307, 0.0), (5309, 0.0), (5310, 0.0), (5312, 0.0), (5314, 0.0), (5319, 0.0), (5320, 0.0), (5323, 0.0), (5324, 0.0), (5326, 0.0), (5328, 0.0), (5329, 0.0), (5331, 0.0), (5332, 0.0), (5333, 0.0), (5337, 0.0), (5338, 0.0), (5339, 0.0), (5340, 0.0), (5342, 0.0), (5343, 0.0), (5344, 0.0), (5345, 0.0), (5347, 0.0), (5349, 0.0), (5351, 0.0), (5353, 0.0), (5354, 0.0), (5355, 0.0), (5356, 0.0), (5357, 0.0), (5359, 0.0), (5360, 0.0), (5361, 0.0), (5363, 0.0), (5364, 0.0), (5367, 0.0), (5371, 0.0), (5372, 0.0), (5373, 0.0), (5377, 0.0), (5379, 0.0), (5380, 0.0), (5382, 0.0), (5384, 0.0), (5387, 0.0), (5388, 0.0), (5389, 0.0), (5391, 0.0), (5394, 0.0), (5395, 0.0), (5396, 0.0), (5397, 0.0), (5399, 0.0), (5400, 0.0), (5403, 0.0), (5406, 0.0), (5407, 0.0), (5411, 0.0), (5412, 0.0), (5414, 0.0), (5417, 0.0), (5418, 0.0), (5419, 0.0), (5420, 0.0), (5421, 0.0), (5422, 0.0), (5426, 0.0), (5428, 0.0), (5429, 0.0), (5430, 0.0), (5432, 0.0), (5435, 0.0), (5436, 0.0), (5437, 0.0), (5438, 0.0), (5439, 0.0), (5442, 0.0), (5445, 0.0), (5446, 0.0), (5448, 0.0), (5449, 0.0), (5450, 0.0), (5451, 0.0), (5452, 0.0), (5454, 0.0), (5457, 0.0), (5458, 0.0), (5462, 0.0), (5464, 0.0), (5465, 0.0), (5468, 0.0), (5469, 0.0), (5470, 0.0), (5474, 0.0), (5475, 0.0), (5477, 0.0), (5480, 0.0), (5481, 0.0), (5483, 0.0), (5484, 0.0), (5488, 0.0), (5489, 0.0), (5490, 0.0), (5492, 0.0), (5494, 0.0), (5496, 0.0), (5497, 0.0), (5498, 0.0), (5502, 0.0), (5505, 0.0), (5506, 0.0), (5510, 0.0), (5511, 0.0), (5513, 0.0), (5517, 0.0), (5522, 0.0), (5523, 0.0), (5524, 0.0), (5527, 0.0), (5529, 0.0), (5532, 0.0), (5534, 0.0), (5537, 0.0), (5538, 0.0), (5540, 0.0), (5542, 0.0), (5543, 0.0), (5544, 0.0), (5547, 0.0), (5548, 0.0), (5549, 0.0), (5550, 0.0), (5551, 0.0), (5553, 0.0), (5554, 0.0), (5555, 0.0), (5556, 0.0), (5558, 0.0), (5559, 0.0), (5562, 0.0), (5564, 0.0), (5566, 0.0), (5567, 0.0), (5568, 0.0), (5569, 0.0), (5570, 0.0), (5572, 0.0), (5573, 0.0), (5574, 0.0), (5576, 0.0), (5577, 0.0), (5578, 0.0), (5579, 0.0), (5585, 0.0), (5587, 0.0), (5589, 0.0), (5590, 0.0), (5591, 0.0), (5594, 0.0), (5599, 0.0), (5600, 0.0), (5602, 0.0), (5604, 0.0), (5605, 0.0), (5606, 0.0), (5607, 0.0), (5609, 0.0), (5611, 0.0), (5612, 0.0), (5613, 0.0), (5616, 0.0), (5622, 0.0), (5623, 0.0), (5626, 0.0), (5630, 0.0), (5631, 0.0), (5633, 0.0), (5634, 0.0), (5635, 0.0), (5639, 0.0), (5642, 0.0), (5645, 0.0), (5646, 0.0), (5648, 0.0), (5650, 0.0), (5651, 0.0), (5653, 0.0), (5656, 0.0), (5657, 0.0), (5658, 0.0), (5661, 0.0), (5663, 0.0), (5664, 0.0), (5666, 0.0), (5667, 0.0), (5668, 0.0), (5669, 0.0), (5671, 0.0), (5673, 0.0), (5676, 0.0), (5677, 0.0), (5679, 0.0), (5680, 0.0), (5681, 0.0), (5682, 0.0), (5683, 0.0), (5686, 0.0), (5688, 0.0), (5689, 0.0), (5690, 0.0), (5692, 0.0), (5694, 0.0), (5695, 0.0), (5696, 0.0), (5697, 0.0), (5699, 0.0), (5700, 0.0), (5701, 0.0), (5702, 0.0), (5703, 0.0), (5705, 0.0), (5707, 0.0), (5708, 0.0), (5709, 0.0), (5712, 0.0), (5713, 0.0), (5714, 0.0), (5715, 0.0), (5716, 0.0), (5719, 0.0), (5720, 0.0), (5721, 0.0), (5723, 0.0), (5724, 0.0), (5727, 0.0), (5728, 0.0), (5729, 0.0), (5730, 0.0), (5734, 0.0), (5735, 0.0), (5737, 0.0), (5738, 0.0), (5740, 0.0), (5744, 0.0), (5746, 0.0), (5748, 0.0), (5749, 0.0), (5751, 0.0), (5752, 0.0), (5753, 0.0), (5759, 0.0), (5760, 0.0), (5763, 0.0), (5765, 0.0), (5766, 0.0), (5767, 0.0), (5768, 0.0), (5769, 0.0), (5770, 0.0), (5772, 0.0), (5773, 0.0), (5775, 0.0), (5776, 0.0), (5778, 0.0), (5779, 0.0), (5781, 0.0), (5782, 0.0), (5783, 0.0), (5784, 0.0), (5785, 0.0), (5786, 0.0), (5787, 0.0), (5789, 0.0), (5791, 0.0), (5792, 0.0), (5793, 0.0), (5794, 0.0), (5796, 0.0), (5797, 0.0), (5799, 0.0), (5800, 0.0), (5801, 0.0), (5802, 0.0), (5803, 0.0), (5804, 0.0), (5805, 0.0), (5813, 0.0), (5815, 0.0), (5817, 0.0), (5818, 0.0), (5820, 0.0), (5822, 0.0), (5823, 0.0), (5824, 0.0), (5826, 0.0), (5827, 0.0), (5829, 0.0), (5830, 0.0), (5833, 0.0), (5834, 0.0), (5838, 0.0), (5839, 0.0), (5840, 0.0), (5842, 0.0), (5844, 0.0), (5845, 0.0), (5846, 0.0), (5847, 0.0), (5850, 0.0), (5851, 0.0), (5853, 0.0), (5854, 0.0), (5856, 0.0), (5857, 0.0), (5858, 0.0), (5859, 0.0), (5864, 0.0), (5866, 0.0), (5867, 0.0), (5868, 0.0)]\n"
     ]
    }
   ],
   "source": [
    "print(sorted_scores)"
   ]
  },
  {
   "cell_type": "code",
   "execution_count": 16,
   "metadata": {
    "ExecuteTime": {
     "end_time": "2021-03-10T19:37:31.377866Z",
     "start_time": "2021-03-10T19:37:31.366370Z"
    },
    "scrolled": true
   },
   "outputs": [
    {
     "name": "stdout",
     "output_type": "stream",
     "text": [
      "As recomendações de filmes do avatar são:\n",
      "\n",
      "1 aliens\n",
      "2 mystery men\n",
      "3 deep rising\n",
      "4 dragonball: evolution\n",
      "5 terminator 2: judgment day\n"
     ]
    }
   ],
   "source": [
    "i = 0\n",
    "print('As recomendações de filmes do',title,'são:\\n' )\n",
    "for item in sorted_scores:\n",
    "    movie_title = data['Title'][item[0]]\n",
    "    print(i+1, movie_title)\n",
    "    i = i+1\n",
    "    if i>4:\n",
    "        break"
   ]
  },
  {
   "cell_type": "code",
   "execution_count": null,
   "metadata": {},
   "outputs": [],
   "source": []
  }
 ],
 "metadata": {
  "kernelspec": {
   "display_name": "Python 3",
   "language": "python",
   "name": "python3"
  },
  "language_info": {
   "codemirror_mode": {
    "name": "ipython",
    "version": 3
   },
   "file_extension": ".py",
   "mimetype": "text/x-python",
   "name": "python",
   "nbconvert_exporter": "python",
   "pygments_lexer": "ipython3",
   "version": "3.8.5"
  },
  "toc": {
   "base_numbering": 1,
   "nav_menu": {},
   "number_sections": true,
   "sideBar": true,
   "skip_h1_title": false,
   "title_cell": "Table of Contents",
   "title_sidebar": "Contents",
   "toc_cell": false,
   "toc_position": {},
   "toc_section_display": true,
   "toc_window_display": false
  },
  "varInspector": {
   "cols": {
    "lenName": 16,
    "lenType": 16,
    "lenVar": 40
   },
   "kernels_config": {
    "python": {
     "delete_cmd_postfix": "",
     "delete_cmd_prefix": "del ",
     "library": "var_list.py",
     "varRefreshCmd": "print(var_dic_list())"
    },
    "r": {
     "delete_cmd_postfix": ") ",
     "delete_cmd_prefix": "rm(",
     "library": "var_list.r",
     "varRefreshCmd": "cat(var_dic_list()) "
    }
   },
   "types_to_exclude": [
    "module",
    "function",
    "builtin_function_or_method",
    "instance",
    "_Feature"
   ],
   "window_display": false
  }
 },
 "nbformat": 4,
 "nbformat_minor": 4
}
